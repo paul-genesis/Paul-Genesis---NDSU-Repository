{
 "cells": [
  {
   "cell_type": "markdown",
   "id": "4f849e27",
   "metadata": {},
   "source": [
    "# Working with Lists\n",
    "## Exercises"
   ]
  },
  {
   "cell_type": "markdown",
   "id": "9f1aea42",
   "metadata": {},
   "source": [
    "1."
   ]
  },
  {
   "cell_type": "code",
   "execution_count": 1,
   "id": "d74d2ee0",
   "metadata": {},
   "outputs": [
    {
     "name": "stdout",
     "output_type": "stream",
     "text": [
      "[3, 6, 9, 12, 15, 18, 21, 24, 27, 30, 33, 36, 39, 42, 45, 48, 51, 54, 57, 60, 63, 66, 69, 72, 75, 78, 81, 84, 87, 90, 93, 96, 99]\n"
     ]
    }
   ],
   "source": [
    "list1 = list(range(3,101,3))\n",
    "print(list1)"
   ]
  },
  {
   "cell_type": "markdown",
   "id": "9aab329c",
   "metadata": {},
   "source": [
    "2."
   ]
  },
  {
   "cell_type": "code",
   "execution_count": 5,
   "id": "c0e4677e",
   "metadata": {},
   "outputs": [
    {
     "name": "stdout",
     "output_type": "stream",
     "text": [
      "[3, 6, 9, 12, 15, 18, 21, 24, 27, 30, 33, 36, 39, 42, 45, 48, 51, 54, 57, 60, 63, 66, 69, 72, 75, 78, 81, 84, 87, 90, 93, 96, 99]\n"
     ]
    }
   ],
   "source": [
    "list2 = list(range(3,101,3))\n",
    "print(list2)"
   ]
  },
  {
   "cell_type": "markdown",
   "id": "adcc75b8",
   "metadata": {},
   "source": [
    "3."
   ]
  },
  {
   "cell_type": "code",
   "execution_count": 7,
   "id": "b0dc270a",
   "metadata": {},
   "outputs": [
    {
     "name": "stdout",
     "output_type": "stream",
     "text": [
      "369121518212427303336394245485154576063666972757881848790939699\n"
     ]
    }
   ],
   "source": [
    "result = \"\"\n",
    "for i in range(3,101,3):\n",
    "    result = result+str(i)\n",
    "print(result)"
   ]
  },
  {
   "cell_type": "markdown",
   "id": "eecac3f3",
   "metadata": {},
   "source": [
    "4. "
   ]
  },
  {
   "cell_type": "code",
   "execution_count": 8,
   "id": "4a78b49b",
   "metadata": {},
   "outputs": [
    {
     "name": "stdout",
     "output_type": "stream",
     "text": [
      "[99, 96, 93, 90, 87, 84, 81, 78, 75, 72, 69, 66, 63, 60, 57, 54, 51, 48, 45, 42, 39, 36, 33, 30, 27, 24, 21, 18, 15, 12, 9, 6, 3]\n"
     ]
    }
   ],
   "source": [
    "list1 = list(range(3,101,3))\n",
    "\n",
    "list3 = []\n",
    "for i in range(3,101,3):\n",
    "    list3.append(list1.pop())\n",
    "    \n",
    "print(list3)"
   ]
  },
  {
   "cell_type": "markdown",
   "id": "afa9b9d9",
   "metadata": {},
   "source": [
    "5."
   ]
  },
  {
   "cell_type": "code",
   "execution_count": 9,
   "id": "6fb2d848",
   "metadata": {},
   "outputs": [
    {
     "name": "stdout",
     "output_type": "stream",
     "text": [
      "[]\n",
      "\n",
      "\n"
     ]
    }
   ],
   "source": [
    "print(list1)\n",
    "print('\\n')\n",
    "midpoint = int(len(list1)/2)\n",
    "end = len(list1)\n",
    "for i in range(midpoint, end):\n",
    "    print(list1[i])"
   ]
  },
  {
   "cell_type": "markdown",
   "id": "42078227",
   "metadata": {},
   "source": [
    "6. "
   ]
  },
  {
   "cell_type": "code",
   "execution_count": 10,
   "id": "3876a9c5",
   "metadata": {},
   "outputs": [
    {
     "name": "stdout",
     "output_type": "stream",
     "text": [
      "39152127333945515763697581879399\n"
     ]
    }
   ],
   "source": [
    "result = \"\"\n",
    "for i in range(3,101,6):\n",
    "    result = result+str(i)\n",
    "print(result)"
   ]
  },
  {
   "cell_type": "markdown",
   "id": "72284731",
   "metadata": {},
   "source": [
    "7."
   ]
  },
  {
   "cell_type": "code",
   "execution_count": 11,
   "id": "bc3da705",
   "metadata": {},
   "outputs": [
    {
     "name": "stdout",
     "output_type": "stream",
     "text": [
      "[0, 1, 2, 3, 4]\n",
      "[0, 1, 2, 3, 4]\n"
     ]
    }
   ],
   "source": [
    "list = [0,1,2,3,4]\n",
    "tuple = [0,1,2,3,4]\n",
    "print(list, tuple, sep = \"\\n\")"
   ]
  },
  {
   "cell_type": "markdown",
   "id": "abb59145",
   "metadata": {},
   "source": [
    "Although a list and typle appear to be similar, the list - as we have seen in this chapter - can have many operations performed on it to adjust it. Whereas, the elements in the tuble are cannot be changed as they are \"static\". Thus, although there are benefits to a tuple such as a smaller size and makes elements easily accessible, you can't manipulate the elements as you would with a list."
   ]
  }
 ],
 "metadata": {
  "kernelspec": {
   "display_name": "Python 3",
   "language": "python",
   "name": "python3"
  },
  "language_info": {
   "codemirror_mode": {
    "name": "ipython",
    "version": 3
   },
   "file_extension": ".py",
   "mimetype": "text/x-python",
   "name": "python",
   "nbconvert_exporter": "python",
   "pygments_lexer": "ipython3",
   "version": "3.8.8"
  }
 },
 "nbformat": 4,
 "nbformat_minor": 5
}
