{
 "cells": [
  {
   "cell_type": "markdown",
   "id": "e4f72f7a",
   "metadata": {},
   "source": [
    "# Project 4 - Ch 5 - Intro to _numpy_, _pandas_, _matplotlib_"
   ]
  },
  {
   "cell_type": "markdown",
   "id": "62be8400",
   "metadata": {},
   "source": [
    "## Numpy"
   ]
  },
  {
   "cell_type": "markdown",
   "id": "cd8e3d4e",
   "metadata": {},
   "source": [
    "### Arrays"
   ]
  },
  {
   "cell_type": "code",
   "execution_count": 148,
   "id": "590f2138",
   "metadata": {},
   "outputs": [],
   "source": [
    "import numpy as np"
   ]
  },
  {
   "cell_type": "code",
   "execution_count": 149,
   "id": "a7f34cd6",
   "metadata": {},
   "outputs": [
    {
     "data": {
      "text/plain": [
       "array([1, 2, 3, 4, 5])"
      ]
     },
     "execution_count": 149,
     "metadata": {},
     "output_type": "execute_result"
    }
   ],
   "source": [
    "array = np.array([1,2,3,4,5])\n",
    "array"
   ]
  },
  {
   "cell_type": "code",
   "execution_count": 150,
   "id": "32ecfe22",
   "metadata": {},
   "outputs": [
    {
     "name": "stdout",
     "output_type": "stream",
     "text": [
      "[1 2 3 4 5]\n"
     ]
    }
   ],
   "source": [
    "print(array)"
   ]
  },
  {
   "cell_type": "code",
   "execution_count": 151,
   "id": "c310b1e2",
   "metadata": {},
   "outputs": [
    {
     "data": {
      "text/plain": [
       "numpy.ndarray"
      ]
     },
     "execution_count": 151,
     "metadata": {},
     "output_type": "execute_result"
    }
   ],
   "source": [
    "type(array)"
   ]
  },
  {
   "cell_type": "code",
   "execution_count": 152,
   "id": "4d287052",
   "metadata": {},
   "outputs": [
    {
     "name": "stdout",
     "output_type": "stream",
     "text": [
      "1 <class 'numpy.int32'>\n",
      "2 <class 'numpy.int32'>\n",
      "3 <class 'numpy.int32'>\n",
      "4 <class 'numpy.int32'>\n",
      "5 <class 'numpy.int32'>\n"
     ]
    }
   ],
   "source": [
    "for val in array:\n",
    "    print(val, type(val))"
   ]
  },
  {
   "cell_type": "markdown",
   "id": "fbed18dc",
   "metadata": {},
   "source": [
    "### arange\n",
    "np.arange(start, finish, interval)"
   ]
  },
  {
   "cell_type": "code",
   "execution_count": 153,
   "id": "f242b086",
   "metadata": {},
   "outputs": [
    {
     "data": {
      "text/plain": [
       "array([  0,   1,   2,   3,   4,   5,   6,   7,   8,   9,  10,  11,  12,\n",
       "        13,  14,  15,  16,  17,  18,  19,  20,  21,  22,  23,  24,  25,\n",
       "        26,  27,  28,  29,  30,  31,  32,  33,  34,  35,  36,  37,  38,\n",
       "        39,  40,  41,  42,  43,  44,  45,  46,  47,  48,  49,  50,  51,\n",
       "        52,  53,  54,  55,  56,  57,  58,  59,  60,  61,  62,  63,  64,\n",
       "        65,  66,  67,  68,  69,  70,  71,  72,  73,  74,  75,  76,  77,\n",
       "        78,  79,  80,  81,  82,  83,  84,  85,  86,  87,  88,  89,  90,\n",
       "        91,  92,  93,  94,  95,  96,  97,  98,  99, 100])"
      ]
     },
     "execution_count": 153,
     "metadata": {},
     "output_type": "execute_result"
    }
   ],
   "source": [
    "range_array = np.arange(0,101)\n",
    "range_array"
   ]
  },
  {
   "cell_type": "code",
   "execution_count": 154,
   "id": "a555a4d9",
   "metadata": {},
   "outputs": [
    {
     "data": {
      "text/plain": [
       "array([ 0,  3,  6,  9, 12, 15, 18, 21, 24, 27, 30, 33, 36, 39, 42, 45, 48,\n",
       "       51, 54, 57, 60, 63, 66, 69, 72, 75, 78, 81, 84, 87, 90, 93, 96, 99])"
      ]
     },
     "execution_count": 154,
     "metadata": {},
     "output_type": "execute_result"
    }
   ],
   "source": [
    "range_array = np.arange(0,101,3)\n",
    "range_array"
   ]
  },
  {
   "cell_type": "code",
   "execution_count": 155,
   "id": "d9a22daf",
   "metadata": {},
   "outputs": [
    {
     "data": {
      "text/plain": [
       "array([101,  98,  95,  92,  89,  86,  83,  80,  77,  74,  71,  68,  65,\n",
       "        62,  59,  56,  53,  50,  47,  44,  41,  38,  35,  32,  29,  26,\n",
       "        23,  20,  17,  14,  11,   8,   5,   2])"
      ]
     },
     "execution_count": 155,
     "metadata": {},
     "output_type": "execute_result"
    }
   ],
   "source": [
    "range_array_bkwd = np.arange(101,0,-3)\n",
    "range_array_bkwd"
   ]
  },
  {
   "cell_type": "markdown",
   "id": "7a9ccef8",
   "metadata": {},
   "source": [
    "#### Forming an array with a list with different types"
   ]
  },
  {
   "cell_type": "code",
   "execution_count": 156,
   "id": "670ed916",
   "metadata": {},
   "outputs": [
    {
     "name": "stdout",
     "output_type": "stream",
     "text": [
      "int_float_list\n",
      "1 <class 'int'>\n",
      "2 <class 'int'>\n",
      "3 <class 'int'>\n",
      "4.0 <class 'float'>\n",
      "5 <class 'int'>\n",
      "\n",
      "\n",
      "mystery_array\n",
      "1.0 <class 'numpy.float64'>\n",
      "2.0 <class 'numpy.float64'>\n",
      "3.0 <class 'numpy.float64'>\n",
      "4.0 <class 'numpy.float64'>\n",
      "5.0 <class 'numpy.float64'>\n",
      "\n",
      "\n",
      "float_list\n",
      "1.0 <class 'numpy.float64'>\n",
      "2.0 <class 'numpy.float64'>\n",
      "3.0 <class 'numpy.float64'>\n",
      "4.0 <class 'numpy.float64'>\n",
      "5.0 <class 'numpy.float64'>\n"
     ]
    }
   ],
   "source": [
    "int_float_list = [1,2,3,4.,5]\n",
    "print(\"int_float_list\")\n",
    "for val in int_float_list:\n",
    "    print(val, type(val))\n",
    "print('\\n')\n",
    "\n",
    "mystery_array = np.array(int_float_list)\n",
    "print(\"mystery_array\")\n",
    "for val in mystery_array:\n",
    "    print(val, type(val))\n",
    "print('\\n')\n",
    "\n",
    "float_list = [1., 2., 3., 4., 5.]\n",
    "float_array = np.array(float_list) #don't forget to transform to np\n",
    "print(\"float_list\")\n",
    "for val in float_array:\n",
    "    print(val, type(val))"
   ]
  },
  {
   "cell_type": "markdown",
   "id": "2a9a7943",
   "metadata": {},
   "source": [
    "### Two dimensional lists and array"
   ]
  },
  {
   "cell_type": "code",
   "execution_count": 157,
   "id": "9a20b7eb",
   "metadata": {},
   "outputs": [
    {
     "data": {
      "text/plain": [
       "[[1, 2, 3, 4], [2, 3, 4, 5], [3, 4, 5, 6]]"
      ]
     },
     "execution_count": 157,
     "metadata": {},
     "output_type": "execute_result"
    }
   ],
   "source": [
    "two_d_list = [[1,2,3,4], [2,3,4,5], [3,4,5,6]] #list of lists\n",
    "two_d_list"
   ]
  },
  {
   "cell_type": "code",
   "execution_count": 158,
   "id": "e6be301c",
   "metadata": {},
   "outputs": [
    {
     "name": "stdout",
     "output_type": "stream",
     "text": [
      "[1, 2, 3, 4]\n",
      "[2, 3, 4, 5]\n",
      "[3, 4, 5, 6]\n"
     ]
    }
   ],
   "source": [
    "for lst in two_d_list:\n",
    "    print(lst)"
   ]
  },
  {
   "cell_type": "code",
   "execution_count": 159,
   "id": "e9b22063",
   "metadata": {},
   "outputs": [
    {
     "name": "stdout",
     "output_type": "stream",
     "text": [
      "[1, 2, 3, 4] <class 'list'>\n",
      "[2, 3, 4, 5] <class 'list'>\n",
      "[3, 4, 5, 6] <class 'list'>\n"
     ]
    }
   ],
   "source": [
    "for lst in two_d_list:\n",
    "    print(lst, type(lst))"
   ]
  },
  {
   "cell_type": "code",
   "execution_count": 160,
   "id": "49898188",
   "metadata": {},
   "outputs": [
    {
     "name": "stdout",
     "output_type": "stream",
     "text": [
      "[1, 2, 3, 4]\n",
      "1\n",
      "2\n",
      "3\n",
      "4\n",
      "[2, 3, 4, 5]\n",
      "2\n",
      "3\n",
      "4\n",
      "5\n",
      "[3, 4, 5, 6]\n",
      "3\n",
      "4\n",
      "5\n",
      "6\n"
     ]
    }
   ],
   "source": [
    "for lst in two_d_list: #lst - label bc results of this for loop are lists\n",
    "    print(lst)\n",
    "    for val in lst:    #val - label bc results of this for loop are ints\n",
    "        print(val)"
   ]
  },
  {
   "cell_type": "markdown",
   "id": "f8996309",
   "metadata": {},
   "source": [
    "### Transform two dimensional list to two dimensional using np.array()"
   ]
  },
  {
   "cell_type": "code",
   "execution_count": 161,
   "id": "b89fba75",
   "metadata": {},
   "outputs": [
    {
     "data": {
      "text/plain": [
       "array([[1, 2, 3, 4],\n",
       "       [2, 3, 4, 5],\n",
       "       [3, 4, 5, 6]])"
      ]
     },
     "execution_count": 161,
     "metadata": {},
     "output_type": "execute_result"
    }
   ],
   "source": [
    "two_d_array = np.array(two_d_list)\n",
    "two_d_array"
   ]
  },
  {
   "cell_type": "code",
   "execution_count": 162,
   "id": "ad59a26b",
   "metadata": {},
   "outputs": [
    {
     "name": "stdout",
     "output_type": "stream",
     "text": [
      "[1 2 3 4]\n",
      "1\n",
      "2\n",
      "3\n",
      "4\n",
      "[2 3 4 5]\n",
      "2\n",
      "3\n",
      "4\n",
      "5\n",
      "[3 4 5 6]\n",
      "3\n",
      "4\n",
      "5\n",
      "6\n"
     ]
    }
   ],
   "source": [
    "for array in two_d_array:\n",
    "    print(array)\n",
    "    for val in array:\n",
    "        print(val)"
   ]
  },
  {
   "cell_type": "markdown",
   "id": "7afaa0a2",
   "metadata": {},
   "source": [
    "### Changing the values of elements in an array\n",
    "Note: you can NOT do this with tuple"
   ]
  },
  {
   "cell_type": "markdown",
   "id": "057d9c21",
   "metadata": {},
   "source": [
    "### List of Zeros\n",
    "np.zeros(rows, cols, dim) creates an nxm array (array of arrays) that is comprised of float zeros\n",
    "\n",
    "if you want a nXm array of ints, you can create a list OR change dtype to int"
   ]
  },
  {
   "cell_type": "code",
   "execution_count": 163,
   "id": "77ce6294",
   "metadata": {},
   "outputs": [
    {
     "data": {
      "text/plain": [
       "array([[0., 0., 0.],\n",
       "       [0., 0., 0.],\n",
       "       [0., 0., 0.]])"
      ]
     },
     "execution_count": 163,
     "metadata": {},
     "output_type": "execute_result"
    }
   ],
   "source": [
    "array = np.zeros((3,3))\n",
    "array"
   ]
  },
  {
   "cell_type": "code",
   "execution_count": 164,
   "id": "09ca27d2",
   "metadata": {},
   "outputs": [
    {
     "data": {
      "text/plain": [
       "array([[[0., 0.],\n",
       "        [0., 0.]],\n",
       "\n",
       "       [[0., 0.],\n",
       "        [0., 0.]]])"
      ]
     },
     "execution_count": 164,
     "metadata": {},
     "output_type": "execute_result"
    }
   ],
   "source": [
    "three_d_array = np.zeros((2,2,2))\n",
    "three_d_array"
   ]
  },
  {
   "cell_type": "code",
   "execution_count": 165,
   "id": "62a9ba39",
   "metadata": {},
   "outputs": [
    {
     "data": {
      "text/plain": [
       "array([[0., 0., 0.],\n",
       "       [0., 0., 0.],\n",
       "       [0., 0., 0.]])"
      ]
     },
     "execution_count": 165,
     "metadata": {},
     "output_type": "execute_result"
    }
   ],
   "source": [
    "array"
   ]
  },
  {
   "cell_type": "code",
   "execution_count": 166,
   "id": "14b9c311",
   "metadata": {},
   "outputs": [
    {
     "data": {
      "text/plain": [
       "array([[1., 0., 0.],\n",
       "       [0., 3., 0.],\n",
       "       [0., 0., 2.]])"
      ]
     },
     "execution_count": 166,
     "metadata": {},
     "output_type": "execute_result"
    }
   ],
   "source": [
    "array[1][1]=3\n",
    "array[2][2]=2\n",
    "array[0][0]=1\n",
    "array"
   ]
  },
  {
   "cell_type": "code",
   "execution_count": 167,
   "id": "0be81db3",
   "metadata": {},
   "outputs": [
    {
     "data": {
      "text/plain": [
       "array([[0, 0, 0],\n",
       "       [0, 0, 0],\n",
       "       [0, 0, 0]])"
      ]
     },
     "execution_count": 167,
     "metadata": {},
     "output_type": "execute_result"
    }
   ],
   "source": [
    "np.zeros((3,3), dtype = int)"
   ]
  },
  {
   "cell_type": "code",
   "execution_count": 168,
   "id": "b2c71da4",
   "metadata": {},
   "outputs": [
    {
     "data": {
      "text/plain": [
       "array([[0, 0, 0],\n",
       "       [0, 0, 0],\n",
       "       [0, 0, 0]])"
      ]
     },
     "execution_count": 168,
     "metadata": {},
     "output_type": "execute_result"
    }
   ],
   "source": [
    "zero_list_of_lists = [[0,0,0],[0,0,0],[0,0,0]]\n",
    "zero_array_of_arrays = np.array(zero_list_of_lists)\n",
    "zero_array_of_arrays"
   ]
  },
  {
   "cell_type": "code",
   "execution_count": 169,
   "id": "67f93076",
   "metadata": {},
   "outputs": [
    {
     "data": {
      "text/plain": [
       "array([[1, 0, 0],\n",
       "       [0, 1, 0],\n",
       "       [0, 0, 1]])"
      ]
     },
     "execution_count": 169,
     "metadata": {},
     "output_type": "execute_result"
    }
   ],
   "source": [
    "zero_array_of_arrays[0,0] = 1\n",
    "zero_array_of_arrays[1,1] = 1\n",
    "zero_array_of_arrays[2,2] = 1\n",
    "zero_array_of_arrays"
   ]
  },
  {
   "cell_type": "markdown",
   "id": "7b24e157",
   "metadata": {},
   "source": [
    "### Logging Data"
   ]
  },
  {
   "cell_type": "code",
   "execution_count": 170,
   "id": "eef43f21",
   "metadata": {},
   "outputs": [
    {
     "data": {
      "text/plain": [
       "1.0"
      ]
     },
     "execution_count": 170,
     "metadata": {},
     "output_type": "execute_result"
    }
   ],
   "source": [
    "np.log(np.e)"
   ]
  },
  {
   "cell_type": "code",
   "execution_count": 171,
   "id": "8d2b2446",
   "metadata": {},
   "outputs": [
    {
     "data": {
      "text/plain": [
       "1.0"
      ]
     },
     "execution_count": 171,
     "metadata": {},
     "output_type": "execute_result"
    }
   ],
   "source": [
    "np.log10(10)"
   ]
  },
  {
   "cell_type": "code",
   "execution_count": 172,
   "id": "57ce041a",
   "metadata": {},
   "outputs": [
    {
     "data": {
      "text/plain": [
       "2.0"
      ]
     },
     "execution_count": 172,
     "metadata": {},
     "output_type": "execute_result"
    }
   ],
   "source": [
    "np.log10(100)"
   ]
  },
  {
   "cell_type": "code",
   "execution_count": 173,
   "id": "609a00f7",
   "metadata": {},
   "outputs": [
    {
     "name": "stdout",
     "output_type": "stream",
     "text": [
      "10 1.0\n",
      "20 1.3010299956639813\n",
      "30 1.4771212547196624\n",
      "40 1.6020599913279623\n",
      "50 1.6989700043360187\n",
      "60 1.7781512503836436\n",
      "70 1.845098040014257\n",
      "80 1.9030899869919435\n",
      "90 1.954242509439325\n",
      "100 2.0\n",
      "110 2.041392685158225\n",
      "120 2.0791812460476247\n",
      "130 2.113943352306837\n",
      "140 2.146128035678238\n",
      "150 2.1760912590556813\n",
      "160 2.2041199826559246\n",
      "170 2.230448921378274\n",
      "180 2.255272505103306\n",
      "190 2.278753600952829\n",
      "200 2.3010299956639813\n",
      "210 2.322219294733919\n",
      "220 2.342422680822206\n",
      "230 2.361727836017593\n",
      "240 2.380211241711606\n",
      "250 2.3979400086720375\n",
      "260 2.4149733479708178\n",
      "270 2.4313637641589874\n",
      "280 2.4471580313422194\n",
      "290 2.462397997898956\n",
      "300 2.4771212547196626\n",
      "310 2.4913616938342726\n",
      "320 2.505149978319906\n",
      "330 2.5185139398778875\n",
      "340 2.531478917042255\n",
      "350 2.5440680443502757\n",
      "360 2.5563025007672873\n",
      "370 2.568201724066995\n",
      "380 2.57978359661681\n",
      "390 2.591064607026499\n",
      "400 2.6020599913279625\n",
      "410 2.6127838567197355\n",
      "420 2.6232492903979003\n",
      "430 2.6334684555795866\n",
      "440 2.6434526764861874\n",
      "450 2.6532125137753435\n",
      "460 2.662757831681574\n",
      "470 2.6720978579357175\n",
      "480 2.681241237375587\n",
      "490 2.690196080028514\n",
      "500 2.6989700043360187\n",
      "510 2.7075701760979363\n",
      "520 2.716003343634799\n",
      "530 2.724275869600789\n",
      "540 2.7323937598229686\n",
      "550 2.7403626894942437\n",
      "560 2.7481880270062002\n",
      "570 2.7558748556724915\n",
      "580 2.7634279935629373\n",
      "590 2.7708520116421442\n",
      "600 2.7781512503836434\n",
      "610 2.785329835010767\n",
      "620 2.792391689498254\n",
      "630 2.7993405494535817\n",
      "640 2.806179973983887\n",
      "650 2.8129133566428557\n",
      "660 2.8195439355418688\n",
      "670 2.8260748027008264\n",
      "680 2.832508912706236\n",
      "690 2.838849090737255\n",
      "700 2.845098040014257\n",
      "710 2.8512583487190755\n",
      "720 2.8573324964312685\n",
      "730 2.863322860120456\n",
      "740 2.8692317197309762\n",
      "750 2.8750612633917\n",
      "760 2.8808135922807914\n",
      "770 2.886490725172482\n",
      "780 2.8920946026904804\n",
      "790 2.8976270912904414\n",
      "800 2.9030899869919438\n",
      "810 2.90848501887865\n",
      "820 2.9138138523837167\n",
      "830 2.9190780923760737\n",
      "840 2.9242792860618816\n",
      "850 2.929418925714293\n",
      "860 2.934498451243568\n",
      "870 2.9395192526186187\n",
      "880 2.9444826721501687\n",
      "890 2.949390006644913\n",
      "900 2.9542425094393248\n",
      "910 2.9590413923210934\n",
      "920 2.963787827345555\n",
      "930 2.9684829485539352\n",
      "940 2.9731278535996988\n",
      "950 2.9777236052888476\n",
      "960 2.9822712330395684\n",
      "970 2.9867717342662448\n",
      "980 2.9912260756924947\n",
      "990 2.99563519459755\n",
      "1000 3.0\n"
     ]
    }
   ],
   "source": [
    "for i in range(10, 1010, 10):\n",
    "    print(i, np.log10(i))"
   ]
  },
  {
   "cell_type": "code",
   "execution_count": 174,
   "id": "d1d75242",
   "metadata": {},
   "outputs": [
    {
     "name": "stdout",
     "output_type": "stream",
     "text": [
      "1 0.0\n",
      "2 0.6931471805599453\n",
      "3 1.0986122886681098\n",
      "4 1.3862943611198906\n",
      "5 1.6094379124341003\n",
      "6 1.791759469228055\n",
      "7 1.9459101490553132\n",
      "8 2.0794415416798357\n",
      "9 2.1972245773362196\n",
      "10 2.302585092994046\n",
      "11 2.3978952727983707\n",
      "12 2.4849066497880004\n",
      "13 2.5649493574615367\n",
      "14 2.6390573296152584\n",
      "15 2.70805020110221\n",
      "16 2.772588722239781\n",
      "17 2.833213344056216\n",
      "18 2.8903717578961645\n",
      "19 2.9444389791664403\n",
      "20 2.995732273553991\n",
      "21 3.044522437723423\n",
      "22 3.091042453358316\n",
      "23 3.1354942159291497\n",
      "24 3.1780538303479458\n",
      "25 3.2188758248682006\n",
      "26 3.258096538021482\n",
      "27 3.295836866004329\n",
      "28 3.332204510175204\n",
      "29 3.367295829986474\n",
      "30 3.4011973816621555\n",
      "31 3.4339872044851463\n",
      "32 3.4657359027997265\n",
      "33 3.4965075614664802\n",
      "34 3.5263605246161616\n",
      "35 3.5553480614894135\n",
      "36 3.58351893845611\n",
      "37 3.6109179126442243\n",
      "38 3.6375861597263857\n",
      "39 3.6635616461296463\n",
      "40 3.6888794541139363\n",
      "41 3.713572066704308\n",
      "42 3.7376696182833684\n",
      "43 3.7612001156935624\n",
      "44 3.784189633918261\n",
      "45 3.8066624897703196\n",
      "46 3.828641396489095\n",
      "47 3.8501476017100584\n",
      "48 3.871201010907891\n",
      "49 3.8918202981106265\n",
      "50 3.912023005428146\n",
      "51 3.9318256327243257\n",
      "52 3.9512437185814275\n",
      "53 3.970291913552122\n",
      "54 3.9889840465642745\n",
      "55 4.007333185232471\n",
      "56 4.02535169073515\n",
      "57 4.04305126783455\n",
      "58 4.060443010546419\n",
      "59 4.07753744390572\n",
      "60 4.0943445622221\n",
      "61 4.110873864173311\n",
      "62 4.127134385045092\n",
      "63 4.143134726391533\n",
      "64 4.1588830833596715\n",
      "65 4.174387269895637\n",
      "66 4.189654742026425\n",
      "67 4.204692619390966\n",
      "68 4.219507705176107\n",
      "69 4.23410650459726\n",
      "70 4.248495242049359\n",
      "71 4.2626798770413155\n",
      "72 4.276666119016055\n",
      "73 4.290459441148391\n",
      "74 4.30406509320417\n",
      "75 4.31748811353631\n",
      "76 4.330733340286331\n",
      "77 4.343805421853684\n",
      "78 4.356708826689592\n",
      "79 4.3694478524670215\n",
      "80 4.382026634673881\n",
      "81 4.394449154672439\n",
      "82 4.406719247264253\n",
      "83 4.418840607796598\n",
      "84 4.430816798843313\n",
      "85 4.442651256490317\n",
      "86 4.454347296253507\n",
      "87 4.465908118654584\n",
      "88 4.477336814478207\n",
      "89 4.48863636973214\n",
      "90 4.499809670330265\n",
      "91 4.51085950651685\n",
      "92 4.5217885770490405\n",
      "93 4.532599493153256\n",
      "94 4.543294782270004\n",
      "95 4.553876891600541\n",
      "96 4.564348191467836\n",
      "97 4.574710978503383\n",
      "98 4.584967478670572\n",
      "99 4.59511985013459\n"
     ]
    }
   ],
   "source": [
    "for i in range (1,100):\n",
    "    print(i, np.log(i))"
   ]
  },
  {
   "cell_type": "code",
   "execution_count": 175,
   "id": "40039686",
   "metadata": {},
   "outputs": [
    {
     "data": {
      "text/plain": [
       "[2, 3, 5, 7, 9]"
      ]
     },
     "execution_count": 175,
     "metadata": {},
     "output_type": "execute_result"
    }
   ],
   "source": [
    "prime_numbers = [i for i in range(2,10)]\n",
    "for i in prime_numbers:\n",
    "    for j in range(2,i):\n",
    "        if i%j == 0:\n",
    "            try:\n",
    "                prime_numbers.remove(i)\n",
    "            except:\n",
    "                pass\n",
    "prime_numbers"
   ]
  },
  {
   "cell_type": "code",
   "execution_count": 176,
   "id": "f7be035c",
   "metadata": {},
   "outputs": [
    {
     "data": {
      "text/plain": [
       "array([0.        , 0.69314718, 1.09861229, 1.38629436, 1.60943791])"
      ]
     },
     "execution_count": 176,
     "metadata": {},
     "output_type": "execute_result"
    }
   ],
   "source": [
    "np.log([1,2,3,4,5])"
   ]
  },
  {
   "cell_type": "markdown",
   "id": "7f33884c",
   "metadata": {},
   "source": [
    "### Boolean indexing\n",
    "\n",
    "This will create a true or false index, that allows us to include or not include values in a list"
   ]
  },
  {
   "cell_type": "code",
   "execution_count": 177,
   "id": "38944b07",
   "metadata": {},
   "outputs": [
    {
     "name": "stdout",
     "output_type": "stream",
     "text": [
      "Random List:  [2.3956032322929444, 0.7229421694341265, 8.362073799788329, 0.34524589504523084, 0.007959609769349063, 9.523975325373627, 6.4520758267992875, 6.089614774140663, 5.553891740958781, 3.7192015336403363]\n",
      "\n",
      "Random List Values > 3:  [4.445851665912039, 2.1927850417226025, 5.653176765139136, 5.654924960128303, 5.809491151714146, 4.763954956569686]\n",
      "\n",
      "Random List Values > 7:  [8.362073799788329, 9.523975325373627]\n"
     ]
    }
   ],
   "source": [
    "import random\n",
    "\n",
    "rand_list = [random.random() * 10 for i in range(10)]\n",
    "\n",
    "subset = [random.random() * 10 for i in range(10) if i>3]\n",
    "\n",
    "subset2 = [val for val in rand_list if val>7]\n",
    "\n",
    "print(\"Random List: \", rand_list)\n",
    "print()\n",
    "print(\"Random List Values > 3: \", subset)\n",
    "print()\n",
    "print(\"Random List Values > 7: \", subset2)"
   ]
  },
  {
   "cell_type": "markdown",
   "id": "99611156",
   "metadata": {},
   "source": [
    "#### with Numpy"
   ]
  },
  {
   "cell_type": "code",
   "execution_count": 178,
   "id": "f7c7e4f6",
   "metadata": {},
   "outputs": [
    {
     "name": "stdout",
     "output_type": "stream",
     "text": [
      "[ 0.04763761  0.55921358 -2.57283225 -0.1219314  -0.61232244 -2.35463685\n",
      "  1.05076076]\n",
      "\n",
      "Max:  1.0507607609339602\n",
      "Min:  -2.572832252677726\n",
      "\n",
      "[ True  True False False False False  True]\n",
      "\n",
      "[0.04763761 0.55921358 1.05076076]\n"
     ]
    }
   ],
   "source": [
    "rand_array = np.random.randn(7)\n",
    "print(rand_array)\n",
    "print()\n",
    "print(\"Max: \", rand_array.max())\n",
    "print(\"Min: \", rand_array.min())\n",
    "print()\n",
    "print(rand_array>0)\n",
    "print()\n",
    "print(rand_array[rand_array>0])"
   ]
  },
  {
   "cell_type": "markdown",
   "id": "7fabaa28",
   "metadata": {},
   "source": [
    "## Pandas: Data in Dictionaries & DataFrames"
   ]
  },
  {
   "cell_type": "code",
   "execution_count": 179,
   "id": "55369b62",
   "metadata": {},
   "outputs": [
    {
     "data": {
      "text/plain": [
       "{'0 to 9': array([0, 1, 2, 3, 4, 5, 6, 7, 8, 9]),\n",
       " 'ones': array([1., 1., 1., 1., 1., 1., 1., 1., 1., 1.]),\n",
       " 'zeros': array([0., 0., 0., 0., 0., 0., 0., 0., 0., 0.])}"
      ]
     },
     "execution_count": 179,
     "metadata": {},
     "output_type": "execute_result"
    }
   ],
   "source": [
    "data_dict = {\"0 to 9\": np.arange(10),\n",
    "            \"ones\": np.ones(10),\n",
    "            \"zeros\": np.zeros(10)}\n",
    "data_dict"
   ]
  },
  {
   "cell_type": "code",
   "execution_count": 180,
   "id": "34e5de43",
   "metadata": {},
   "outputs": [
    {
     "name": "stdout",
     "output_type": "stream",
     "text": [
      "0 to 9\n",
      "[0 1 2 3 4 5 6 7 8 9]\n",
      "ones\n",
      "[1. 1. 1. 1. 1. 1. 1. 1. 1. 1.]\n",
      "zeros\n",
      "[0. 0. 0. 0. 0. 0. 0. 0. 0. 0.]\n"
     ]
    }
   ],
   "source": [
    "for key in data_dict:\n",
    "    print(key)\n",
    "    print(data_dict[key])"
   ]
  },
  {
   "cell_type": "code",
   "execution_count": 181,
   "id": "77f0b6a6",
   "metadata": {
    "scrolled": true
   },
   "outputs": [
    {
     "data": {
      "text/plain": [
       "dict_items([('0 to 9', array([0, 1, 2, 3, 4, 5, 6, 7, 8, 9])), ('ones', array([1., 1., 1., 1., 1., 1., 1., 1., 1., 1.])), ('zeros', array([0., 0., 0., 0., 0., 0., 0., 0., 0., 0.]))])"
      ]
     },
     "execution_count": 181,
     "metadata": {},
     "output_type": "execute_result"
    }
   ],
   "source": [
    "data_dict.items() #result is a list of tuples (key, array)"
   ]
  },
  {
   "cell_type": "code",
   "execution_count": 182,
   "id": "c22ba30a",
   "metadata": {},
   "outputs": [
    {
     "name": "stdout",
     "output_type": "stream",
     "text": [
      "0 to 9\n",
      "[0 1 2 3 4 5 6 7 8 9]\n",
      "ones\n",
      "[1. 1. 1. 1. 1. 1. 1. 1. 1. 1.]\n",
      "zeros\n",
      "[0. 0. 0. 0. 0. 0. 0. 0. 0. 0.]\n"
     ]
    },
    {
     "data": {
      "text/plain": [
       "dict_items([('0 to 9', array([0, 1, 2, 3, 4, 5, 6, 7, 8, 9])), ('ones', array([1., 1., 1., 1., 1., 1., 1., 1., 1., 1.])), ('zeros', array([0., 0., 0., 0., 0., 0., 0., 0., 0., 0.]))])"
      ]
     },
     "execution_count": 182,
     "metadata": {},
     "output_type": "execute_result"
    }
   ],
   "source": [
    "for key, val in data_dict.items():\n",
    "    val = data_dict[key]\n",
    "    print(key)\n",
    "    print(val)\n",
    "data_dict.items()"
   ]
  },
  {
   "cell_type": "code",
   "execution_count": 183,
   "id": "d51a7598",
   "metadata": {},
   "outputs": [
    {
     "name": "stdout",
     "output_type": "stream",
     "text": [
      "0 to 9\n",
      "[0 1 2 3 4 5 6 7 8 9]\n",
      "ones\n",
      "[1. 1. 1. 1. 1. 1. 1. 1. 1. 1.]\n",
      "zeros\n",
      "[0. 0. 0. 0. 0. 0. 0. 0. 0. 0.]\n"
     ]
    }
   ],
   "source": [
    "for key, val in data_dict.items():\n",
    "    print(key)\n",
    "    print(val)"
   ]
  },
  {
   "cell_type": "code",
   "execution_count": 184,
   "id": "27971cff",
   "metadata": {},
   "outputs": [
    {
     "name": "stdout",
     "output_type": "stream",
     "text": [
      "Values from index 5 0 to 9\n",
      "[5 6 7 8 9]\n",
      "Values from index 5 ones\n",
      "[1. 1. 1. 1. 1.]\n",
      "Values from index 5 zeros\n",
      "[0. 0. 0. 0. 0.]\n"
     ]
    }
   ],
   "source": [
    "for key, val in data_dict.items():\n",
    "    print(\"Values from index 5\", key)\n",
    "    print(val[5:]) #slice"
   ]
  },
  {
   "cell_type": "markdown",
   "id": "2c519d31",
   "metadata": {},
   "source": [
    "#### DataFrames"
   ]
  },
  {
   "cell_type": "code",
   "execution_count": 185,
   "id": "091686ab",
   "metadata": {},
   "outputs": [],
   "source": [
    "import pandas as pd\n",
    "import numpy as np"
   ]
  },
  {
   "cell_type": "code",
   "execution_count": 186,
   "id": "e5640c7a",
   "metadata": {},
   "outputs": [
    {
     "data": {
      "text/plain": [
       "0     2\n",
       "1     3\n",
       "2     4\n",
       "3     5\n",
       "4     6\n",
       "5     7\n",
       "6     8\n",
       "7     9\n",
       "8    10\n",
       "9    11\n",
       "dtype: int32"
      ]
     },
     "execution_count": 186,
     "metadata": {},
     "output_type": "execute_result"
    }
   ],
   "source": [
    "data_series = pd.Series(np.arange(2,12)) #first col = index, second col = val\n",
    "data_series"
   ]
  },
  {
   "cell_type": "code",
   "execution_count": 187,
   "id": "f9b54cb0",
   "metadata": {},
   "outputs": [
    {
     "data": {
      "text/html": [
       "<div>\n",
       "<style scoped>\n",
       "    .dataframe tbody tr th:only-of-type {\n",
       "        vertical-align: middle;\n",
       "    }\n",
       "\n",
       "    .dataframe tbody tr th {\n",
       "        vertical-align: top;\n",
       "    }\n",
       "\n",
       "    .dataframe thead th {\n",
       "        text-align: right;\n",
       "    }\n",
       "</style>\n",
       "<table border=\"1\" class=\"dataframe\">\n",
       "  <thead>\n",
       "    <tr style=\"text-align: right;\">\n",
       "      <th></th>\n",
       "      <th>0 to 9</th>\n",
       "      <th>ones</th>\n",
       "      <th>zeros</th>\n",
       "    </tr>\n",
       "  </thead>\n",
       "  <tbody>\n",
       "    <tr>\n",
       "      <th>0</th>\n",
       "      <td>0</td>\n",
       "      <td>1.0</td>\n",
       "      <td>0.0</td>\n",
       "    </tr>\n",
       "    <tr>\n",
       "      <th>1</th>\n",
       "      <td>1</td>\n",
       "      <td>1.0</td>\n",
       "      <td>0.0</td>\n",
       "    </tr>\n",
       "    <tr>\n",
       "      <th>2</th>\n",
       "      <td>2</td>\n",
       "      <td>1.0</td>\n",
       "      <td>0.0</td>\n",
       "    </tr>\n",
       "    <tr>\n",
       "      <th>3</th>\n",
       "      <td>3</td>\n",
       "      <td>1.0</td>\n",
       "      <td>0.0</td>\n",
       "    </tr>\n",
       "    <tr>\n",
       "      <th>4</th>\n",
       "      <td>4</td>\n",
       "      <td>1.0</td>\n",
       "      <td>0.0</td>\n",
       "    </tr>\n",
       "    <tr>\n",
       "      <th>5</th>\n",
       "      <td>5</td>\n",
       "      <td>1.0</td>\n",
       "      <td>0.0</td>\n",
       "    </tr>\n",
       "    <tr>\n",
       "      <th>6</th>\n",
       "      <td>6</td>\n",
       "      <td>1.0</td>\n",
       "      <td>0.0</td>\n",
       "    </tr>\n",
       "    <tr>\n",
       "      <th>7</th>\n",
       "      <td>7</td>\n",
       "      <td>1.0</td>\n",
       "      <td>0.0</td>\n",
       "    </tr>\n",
       "    <tr>\n",
       "      <th>8</th>\n",
       "      <td>8</td>\n",
       "      <td>1.0</td>\n",
       "      <td>0.0</td>\n",
       "    </tr>\n",
       "    <tr>\n",
       "      <th>9</th>\n",
       "      <td>9</td>\n",
       "      <td>1.0</td>\n",
       "      <td>0.0</td>\n",
       "    </tr>\n",
       "  </tbody>\n",
       "</table>\n",
       "</div>"
      ],
      "text/plain": [
       "   0 to 9  ones  zeros\n",
       "0       0   1.0    0.0\n",
       "1       1   1.0    0.0\n",
       "2       2   1.0    0.0\n",
       "3       3   1.0    0.0\n",
       "4       4   1.0    0.0\n",
       "5       5   1.0    0.0\n",
       "6       6   1.0    0.0\n",
       "7       7   1.0    0.0\n",
       "8       8   1.0    0.0\n",
       "9       9   1.0    0.0"
      ]
     },
     "execution_count": 187,
     "metadata": {},
     "output_type": "execute_result"
    }
   ],
   "source": [
    "data_df = pd.DataFrame(data_dict)\n",
    "data_df"
   ]
  },
  {
   "cell_type": "markdown",
   "id": "46bc93fe",
   "metadata": {},
   "source": [
    "A data frame is a collection of series"
   ]
  },
  {
   "cell_type": "code",
   "execution_count": 188,
   "id": "aada317f",
   "metadata": {},
   "outputs": [
    {
     "data": {
      "text/plain": [
       "0    0\n",
       "1    1\n",
       "2    2\n",
       "3    3\n",
       "4    4\n",
       "5    5\n",
       "6    6\n",
       "7    7\n",
       "8    8\n",
       "9    9\n",
       "Name: 0 to 9, dtype: int32"
      ]
     },
     "execution_count": 188,
     "metadata": {},
     "output_type": "execute_result"
    }
   ],
   "source": [
    "data_df[\"0 to 9\"]"
   ]
  },
  {
   "cell_type": "markdown",
   "id": "c97add5b",
   "metadata": {},
   "source": [
    "### .loc, .iloc\n",
    "\n",
    "###### df.iloc[start:finish-1] calls according to row num\n",
    "###### df.loc[] calls according to row name"
   ]
  },
  {
   "cell_type": "code",
   "execution_count": 189,
   "id": "e6d32811",
   "metadata": {},
   "outputs": [
    {
     "data": {
      "text/html": [
       "<div>\n",
       "<style scoped>\n",
       "    .dataframe tbody tr th:only-of-type {\n",
       "        vertical-align: middle;\n",
       "    }\n",
       "\n",
       "    .dataframe tbody tr th {\n",
       "        vertical-align: top;\n",
       "    }\n",
       "\n",
       "    .dataframe thead th {\n",
       "        text-align: right;\n",
       "    }\n",
       "</style>\n",
       "<table border=\"1\" class=\"dataframe\">\n",
       "  <thead>\n",
       "    <tr style=\"text-align: right;\">\n",
       "      <th></th>\n",
       "      <th>0 to 9</th>\n",
       "      <th>ones</th>\n",
       "      <th>zeros</th>\n",
       "    </tr>\n",
       "  </thead>\n",
       "  <tbody>\n",
       "    <tr>\n",
       "      <th>0</th>\n",
       "      <td>0</td>\n",
       "      <td>1.0</td>\n",
       "      <td>0.0</td>\n",
       "    </tr>\n",
       "    <tr>\n",
       "      <th>1</th>\n",
       "      <td>1</td>\n",
       "      <td>1.0</td>\n",
       "      <td>0.0</td>\n",
       "    </tr>\n",
       "    <tr>\n",
       "      <th>2</th>\n",
       "      <td>2</td>\n",
       "      <td>1.0</td>\n",
       "      <td>0.0</td>\n",
       "    </tr>\n",
       "    <tr>\n",
       "      <th>3</th>\n",
       "      <td>3</td>\n",
       "      <td>1.0</td>\n",
       "      <td>0.0</td>\n",
       "    </tr>\n",
       "    <tr>\n",
       "      <th>4</th>\n",
       "      <td>4</td>\n",
       "      <td>1.0</td>\n",
       "      <td>0.0</td>\n",
       "    </tr>\n",
       "    <tr>\n",
       "      <th>5</th>\n",
       "      <td>5</td>\n",
       "      <td>1.0</td>\n",
       "      <td>0.0</td>\n",
       "    </tr>\n",
       "  </tbody>\n",
       "</table>\n",
       "</div>"
      ],
      "text/plain": [
       "   0 to 9  ones  zeros\n",
       "0       0   1.0    0.0\n",
       "1       1   1.0    0.0\n",
       "2       2   1.0    0.0\n",
       "3       3   1.0    0.0\n",
       "4       4   1.0    0.0\n",
       "5       5   1.0    0.0"
      ]
     },
     "execution_count": 189,
     "metadata": {},
     "output_type": "execute_result"
    }
   ],
   "source": [
    "data_df.loc[:5]"
   ]
  },
  {
   "cell_type": "code",
   "execution_count": 190,
   "id": "32bed602",
   "metadata": {},
   "outputs": [
    {
     "data": {
      "text/html": [
       "<div>\n",
       "<style scoped>\n",
       "    .dataframe tbody tr th:only-of-type {\n",
       "        vertical-align: middle;\n",
       "    }\n",
       "\n",
       "    .dataframe tbody tr th {\n",
       "        vertical-align: top;\n",
       "    }\n",
       "\n",
       "    .dataframe thead th {\n",
       "        text-align: right;\n",
       "    }\n",
       "</style>\n",
       "<table border=\"1\" class=\"dataframe\">\n",
       "  <thead>\n",
       "    <tr style=\"text-align: right;\">\n",
       "      <th></th>\n",
       "      <th>0 to 9</th>\n",
       "      <th>ones</th>\n",
       "      <th>zeros</th>\n",
       "    </tr>\n",
       "  </thead>\n",
       "  <tbody>\n",
       "    <tr>\n",
       "      <th>0</th>\n",
       "      <td>0</td>\n",
       "      <td>1.0</td>\n",
       "      <td>0.0</td>\n",
       "    </tr>\n",
       "    <tr>\n",
       "      <th>1</th>\n",
       "      <td>1</td>\n",
       "      <td>1.0</td>\n",
       "      <td>0.0</td>\n",
       "    </tr>\n",
       "    <tr>\n",
       "      <th>2</th>\n",
       "      <td>2</td>\n",
       "      <td>1.0</td>\n",
       "      <td>0.0</td>\n",
       "    </tr>\n",
       "    <tr>\n",
       "      <th>3</th>\n",
       "      <td>3</td>\n",
       "      <td>1.0</td>\n",
       "      <td>0.0</td>\n",
       "    </tr>\n",
       "    <tr>\n",
       "      <th>4</th>\n",
       "      <td>4</td>\n",
       "      <td>1.0</td>\n",
       "      <td>0.0</td>\n",
       "    </tr>\n",
       "  </tbody>\n",
       "</table>\n",
       "</div>"
      ],
      "text/plain": [
       "   0 to 9  ones  zeros\n",
       "0       0   1.0    0.0\n",
       "1       1   1.0    0.0\n",
       "2       2   1.0    0.0\n",
       "3       3   1.0    0.0\n",
       "4       4   1.0    0.0"
      ]
     },
     "execution_count": 190,
     "metadata": {},
     "output_type": "execute_result"
    }
   ],
   "source": [
    "data_df.iloc[:5]"
   ]
  },
  {
   "cell_type": "code",
   "execution_count": 191,
   "id": "1be0d127",
   "metadata": {},
   "outputs": [],
   "source": [
    "import pandas as pd\n",
    "import numpy as np\n",
    "import random"
   ]
  },
  {
   "cell_type": "code",
   "execution_count": 192,
   "id": "1c0b4436",
   "metadata": {},
   "outputs": [
    {
     "data": {
      "text/plain": [
       "{'GDP': {}, 'Money': {}, 'Price Level': {}}"
      ]
     },
     "execution_count": 192,
     "metadata": {},
     "output_type": "execute_result"
    }
   ],
   "source": [
    "macro_dict = {\"GDP\":{},\n",
    "              \"Money\":{},\n",
    "              #\"Real GDP\":{},\n",
    "              \"Price Level\":{}\n",
    "}\n",
    "macro_dict"
   ]
  },
  {
   "cell_type": "code",
   "execution_count": 193,
   "id": "51b01edd",
   "metadata": {},
   "outputs": [],
   "source": [
    "for key in macro_dict:\n",
    "    for i in range(1990, 2018):\n",
    "        macro_dict[key][i] = np.random.random() * 10000"
   ]
  },
  {
   "cell_type": "code",
   "execution_count": 194,
   "id": "4291ff03",
   "metadata": {},
   "outputs": [
    {
     "name": "stdout",
     "output_type": "stream",
     "text": [
      "{'GDP': {1990: 371.05118051156126, 1991: 5409.184115065598, 1992: 3733.330294815165, 1993: 5421.71795906821, 1994: 9114.619380100083, 1995: 8083.759069793901, 1996: 8060.2064742568, 1997: 4421.66025120731, 1998: 9149.693357955464, 1999: 5332.174351774899, 2000: 3955.8949810152844, 2001: 6084.988076355494, 2002: 7299.565224724559, 2003: 8283.981817293112, 2004: 3690.5490961771416, 2005: 2459.4510299396043, 2006: 7213.149856982711, 2007: 2263.3032445227586, 2008: 6360.17359610908, 2009: 4181.470746039442, 2010: 7432.73972800219, 2011: 6363.4973080572945, 2012: 8878.016776042969, 2013: 8541.470436006519, 2014: 8360.467466707092, 2015: 9210.856860373377, 2016: 9539.633232209317, 2017: 5525.160746283871}, 'Money': {1990: 9391.416745850192, 1991: 2384.144316934751, 1992: 4803.331644237303, 1993: 3469.7314180953463, 1994: 2252.1497431206594, 1995: 4423.570336217384, 1996: 8278.619935977327, 1997: 1440.758782413576, 1998: 501.84853517757585, 1999: 2977.637845617942, 2000: 8278.014786108322, 2001: 2448.3060244252997, 2002: 5118.1288313705445, 2003: 3881.42148714174, 2004: 2737.0004890425203, 2005: 3733.745325506649, 2006: 8210.389111005648, 2007: 8526.845512661655, 2008: 2006.2321428402363, 2009: 3424.033923364267, 2010: 8498.314216572571, 2011: 2766.2876374812718, 2012: 8540.882454317341, 2013: 5205.419662815998, 2014: 4760.320240327766, 2015: 3479.323095475572, 2016: 2375.9864804256235, 2017: 6581.908689273002}, 'Price Level': {1990: 9820.982690636902, 1991: 9238.665182486922, 1992: 5710.7543746052625, 1993: 158.19465352642558, 1994: 3891.518527501042, 1995: 2311.704400647996, 1996: 2258.6915801088003, 1997: 4304.108020246909, 1998: 8389.13634774313, 1999: 776.5356379089716, 2000: 2424.1576281974953, 2001: 7921.4288910696405, 2002: 1305.3848496523844, 2003: 7726.936451979151, 2004: 7339.270391946124, 2005: 8283.7295328783, 2006: 2552.046984153674, 2007: 7899.148028061886, 2008: 1407.1678035479151, 2009: 8807.6660234387, 2010: 5560.108044011152, 2011: 9584.14841150965, 2012: 1937.6803584419056, 2013: 5851.757227973105, 2014: 5185.652115100526, 2015: 2786.255608461259, 2016: 2553.9080808223125, 2017: 3069.4332898393895}}\n"
     ]
    }
   ],
   "source": [
    "print(macro_dict)"
   ]
  },
  {
   "cell_type": "code",
   "execution_count": 195,
   "id": "4a5d37d2",
   "metadata": {},
   "outputs": [
    {
     "data": {
      "text/plain": [
       "{'GDP': {1990: 371.05118051156126,\n",
       "  1991: 5409.184115065598,\n",
       "  1992: 3733.330294815165,\n",
       "  1993: 5421.71795906821,\n",
       "  1994: 9114.619380100083,\n",
       "  1995: 8083.759069793901,\n",
       "  1996: 8060.2064742568,\n",
       "  1997: 4421.66025120731,\n",
       "  1998: 9149.693357955464,\n",
       "  1999: 5332.174351774899,\n",
       "  2000: 3955.8949810152844,\n",
       "  2001: 6084.988076355494,\n",
       "  2002: 7299.565224724559,\n",
       "  2003: 8283.981817293112,\n",
       "  2004: 3690.5490961771416,\n",
       "  2005: 2459.4510299396043,\n",
       "  2006: 7213.149856982711,\n",
       "  2007: 2263.3032445227586,\n",
       "  2008: 6360.17359610908,\n",
       "  2009: 4181.470746039442,\n",
       "  2010: 7432.73972800219,\n",
       "  2011: 6363.4973080572945,\n",
       "  2012: 8878.016776042969,\n",
       "  2013: 8541.470436006519,\n",
       "  2014: 8360.467466707092,\n",
       "  2015: 9210.856860373377,\n",
       "  2016: 9539.633232209317,\n",
       "  2017: 5525.160746283871},\n",
       " 'Money': {1990: 9391.416745850192,\n",
       "  1991: 2384.144316934751,\n",
       "  1992: 4803.331644237303,\n",
       "  1993: 3469.7314180953463,\n",
       "  1994: 2252.1497431206594,\n",
       "  1995: 4423.570336217384,\n",
       "  1996: 8278.619935977327,\n",
       "  1997: 1440.758782413576,\n",
       "  1998: 501.84853517757585,\n",
       "  1999: 2977.637845617942,\n",
       "  2000: 8278.014786108322,\n",
       "  2001: 2448.3060244252997,\n",
       "  2002: 5118.1288313705445,\n",
       "  2003: 3881.42148714174,\n",
       "  2004: 2737.0004890425203,\n",
       "  2005: 3733.745325506649,\n",
       "  2006: 8210.389111005648,\n",
       "  2007: 8526.845512661655,\n",
       "  2008: 2006.2321428402363,\n",
       "  2009: 3424.033923364267,\n",
       "  2010: 8498.314216572571,\n",
       "  2011: 2766.2876374812718,\n",
       "  2012: 8540.882454317341,\n",
       "  2013: 5205.419662815998,\n",
       "  2014: 4760.320240327766,\n",
       "  2015: 3479.323095475572,\n",
       "  2016: 2375.9864804256235,\n",
       "  2017: 6581.908689273002},\n",
       " 'Price Level': {1990: 9820.982690636902,\n",
       "  1991: 9238.665182486922,\n",
       "  1992: 5710.7543746052625,\n",
       "  1993: 158.19465352642558,\n",
       "  1994: 3891.518527501042,\n",
       "  1995: 2311.704400647996,\n",
       "  1996: 2258.6915801088003,\n",
       "  1997: 4304.108020246909,\n",
       "  1998: 8389.13634774313,\n",
       "  1999: 776.5356379089716,\n",
       "  2000: 2424.1576281974953,\n",
       "  2001: 7921.4288910696405,\n",
       "  2002: 1305.3848496523844,\n",
       "  2003: 7726.936451979151,\n",
       "  2004: 7339.270391946124,\n",
       "  2005: 8283.7295328783,\n",
       "  2006: 2552.046984153674,\n",
       "  2007: 7899.148028061886,\n",
       "  2008: 1407.1678035479151,\n",
       "  2009: 8807.6660234387,\n",
       "  2010: 5560.108044011152,\n",
       "  2011: 9584.14841150965,\n",
       "  2012: 1937.6803584419056,\n",
       "  2013: 5851.757227973105,\n",
       "  2014: 5185.652115100526,\n",
       "  2015: 2786.255608461259,\n",
       "  2016: 2553.9080808223125,\n",
       "  2017: 3069.4332898393895}}"
      ]
     },
     "execution_count": 195,
     "metadata": {},
     "output_type": "execute_result"
    }
   ],
   "source": [
    "macro_dict"
   ]
  },
  {
   "cell_type": "code",
   "execution_count": 196,
   "id": "17fd2f3c",
   "metadata": {},
   "outputs": [
    {
     "data": {
      "text/html": [
       "<div>\n",
       "<style scoped>\n",
       "    .dataframe tbody tr th:only-of-type {\n",
       "        vertical-align: middle;\n",
       "    }\n",
       "\n",
       "    .dataframe tbody tr th {\n",
       "        vertical-align: top;\n",
       "    }\n",
       "\n",
       "    .dataframe thead th {\n",
       "        text-align: right;\n",
       "    }\n",
       "</style>\n",
       "<table border=\"1\" class=\"dataframe\">\n",
       "  <thead>\n",
       "    <tr style=\"text-align: right;\">\n",
       "      <th></th>\n",
       "      <th>GDP</th>\n",
       "      <th>Money</th>\n",
       "      <th>Price Level</th>\n",
       "    </tr>\n",
       "  </thead>\n",
       "  <tbody>\n",
       "    <tr>\n",
       "      <th>1990</th>\n",
       "      <td>371.051181</td>\n",
       "      <td>9391.416746</td>\n",
       "      <td>9820.982691</td>\n",
       "    </tr>\n",
       "    <tr>\n",
       "      <th>1991</th>\n",
       "      <td>5409.184115</td>\n",
       "      <td>2384.144317</td>\n",
       "      <td>9238.665182</td>\n",
       "    </tr>\n",
       "    <tr>\n",
       "      <th>1992</th>\n",
       "      <td>3733.330295</td>\n",
       "      <td>4803.331644</td>\n",
       "      <td>5710.754375</td>\n",
       "    </tr>\n",
       "    <tr>\n",
       "      <th>1993</th>\n",
       "      <td>5421.717959</td>\n",
       "      <td>3469.731418</td>\n",
       "      <td>158.194654</td>\n",
       "    </tr>\n",
       "    <tr>\n",
       "      <th>1994</th>\n",
       "      <td>9114.619380</td>\n",
       "      <td>2252.149743</td>\n",
       "      <td>3891.518528</td>\n",
       "    </tr>\n",
       "    <tr>\n",
       "      <th>1995</th>\n",
       "      <td>8083.759070</td>\n",
       "      <td>4423.570336</td>\n",
       "      <td>2311.704401</td>\n",
       "    </tr>\n",
       "    <tr>\n",
       "      <th>1996</th>\n",
       "      <td>8060.206474</td>\n",
       "      <td>8278.619936</td>\n",
       "      <td>2258.691580</td>\n",
       "    </tr>\n",
       "    <tr>\n",
       "      <th>1997</th>\n",
       "      <td>4421.660251</td>\n",
       "      <td>1440.758782</td>\n",
       "      <td>4304.108020</td>\n",
       "    </tr>\n",
       "    <tr>\n",
       "      <th>1998</th>\n",
       "      <td>9149.693358</td>\n",
       "      <td>501.848535</td>\n",
       "      <td>8389.136348</td>\n",
       "    </tr>\n",
       "    <tr>\n",
       "      <th>1999</th>\n",
       "      <td>5332.174352</td>\n",
       "      <td>2977.637846</td>\n",
       "      <td>776.535638</td>\n",
       "    </tr>\n",
       "    <tr>\n",
       "      <th>2000</th>\n",
       "      <td>3955.894981</td>\n",
       "      <td>8278.014786</td>\n",
       "      <td>2424.157628</td>\n",
       "    </tr>\n",
       "    <tr>\n",
       "      <th>2001</th>\n",
       "      <td>6084.988076</td>\n",
       "      <td>2448.306024</td>\n",
       "      <td>7921.428891</td>\n",
       "    </tr>\n",
       "    <tr>\n",
       "      <th>2002</th>\n",
       "      <td>7299.565225</td>\n",
       "      <td>5118.128831</td>\n",
       "      <td>1305.384850</td>\n",
       "    </tr>\n",
       "    <tr>\n",
       "      <th>2003</th>\n",
       "      <td>8283.981817</td>\n",
       "      <td>3881.421487</td>\n",
       "      <td>7726.936452</td>\n",
       "    </tr>\n",
       "    <tr>\n",
       "      <th>2004</th>\n",
       "      <td>3690.549096</td>\n",
       "      <td>2737.000489</td>\n",
       "      <td>7339.270392</td>\n",
       "    </tr>\n",
       "    <tr>\n",
       "      <th>2005</th>\n",
       "      <td>2459.451030</td>\n",
       "      <td>3733.745326</td>\n",
       "      <td>8283.729533</td>\n",
       "    </tr>\n",
       "    <tr>\n",
       "      <th>2006</th>\n",
       "      <td>7213.149857</td>\n",
       "      <td>8210.389111</td>\n",
       "      <td>2552.046984</td>\n",
       "    </tr>\n",
       "    <tr>\n",
       "      <th>2007</th>\n",
       "      <td>2263.303245</td>\n",
       "      <td>8526.845513</td>\n",
       "      <td>7899.148028</td>\n",
       "    </tr>\n",
       "    <tr>\n",
       "      <th>2008</th>\n",
       "      <td>6360.173596</td>\n",
       "      <td>2006.232143</td>\n",
       "      <td>1407.167804</td>\n",
       "    </tr>\n",
       "    <tr>\n",
       "      <th>2009</th>\n",
       "      <td>4181.470746</td>\n",
       "      <td>3424.033923</td>\n",
       "      <td>8807.666023</td>\n",
       "    </tr>\n",
       "    <tr>\n",
       "      <th>2010</th>\n",
       "      <td>7432.739728</td>\n",
       "      <td>8498.314217</td>\n",
       "      <td>5560.108044</td>\n",
       "    </tr>\n",
       "    <tr>\n",
       "      <th>2011</th>\n",
       "      <td>6363.497308</td>\n",
       "      <td>2766.287637</td>\n",
       "      <td>9584.148412</td>\n",
       "    </tr>\n",
       "    <tr>\n",
       "      <th>2012</th>\n",
       "      <td>8878.016776</td>\n",
       "      <td>8540.882454</td>\n",
       "      <td>1937.680358</td>\n",
       "    </tr>\n",
       "    <tr>\n",
       "      <th>2013</th>\n",
       "      <td>8541.470436</td>\n",
       "      <td>5205.419663</td>\n",
       "      <td>5851.757228</td>\n",
       "    </tr>\n",
       "    <tr>\n",
       "      <th>2014</th>\n",
       "      <td>8360.467467</td>\n",
       "      <td>4760.320240</td>\n",
       "      <td>5185.652115</td>\n",
       "    </tr>\n",
       "    <tr>\n",
       "      <th>2015</th>\n",
       "      <td>9210.856860</td>\n",
       "      <td>3479.323095</td>\n",
       "      <td>2786.255608</td>\n",
       "    </tr>\n",
       "    <tr>\n",
       "      <th>2016</th>\n",
       "      <td>9539.633232</td>\n",
       "      <td>2375.986480</td>\n",
       "      <td>2553.908081</td>\n",
       "    </tr>\n",
       "    <tr>\n",
       "      <th>2017</th>\n",
       "      <td>5525.160746</td>\n",
       "      <td>6581.908689</td>\n",
       "      <td>3069.433290</td>\n",
       "    </tr>\n",
       "  </tbody>\n",
       "</table>\n",
       "</div>"
      ],
      "text/plain": [
       "              GDP        Money  Price Level\n",
       "1990   371.051181  9391.416746  9820.982691\n",
       "1991  5409.184115  2384.144317  9238.665182\n",
       "1992  3733.330295  4803.331644  5710.754375\n",
       "1993  5421.717959  3469.731418   158.194654\n",
       "1994  9114.619380  2252.149743  3891.518528\n",
       "1995  8083.759070  4423.570336  2311.704401\n",
       "1996  8060.206474  8278.619936  2258.691580\n",
       "1997  4421.660251  1440.758782  4304.108020\n",
       "1998  9149.693358   501.848535  8389.136348\n",
       "1999  5332.174352  2977.637846   776.535638\n",
       "2000  3955.894981  8278.014786  2424.157628\n",
       "2001  6084.988076  2448.306024  7921.428891\n",
       "2002  7299.565225  5118.128831  1305.384850\n",
       "2003  8283.981817  3881.421487  7726.936452\n",
       "2004  3690.549096  2737.000489  7339.270392\n",
       "2005  2459.451030  3733.745326  8283.729533\n",
       "2006  7213.149857  8210.389111  2552.046984\n",
       "2007  2263.303245  8526.845513  7899.148028\n",
       "2008  6360.173596  2006.232143  1407.167804\n",
       "2009  4181.470746  3424.033923  8807.666023\n",
       "2010  7432.739728  8498.314217  5560.108044\n",
       "2011  6363.497308  2766.287637  9584.148412\n",
       "2012  8878.016776  8540.882454  1937.680358\n",
       "2013  8541.470436  5205.419663  5851.757228\n",
       "2014  8360.467467  4760.320240  5185.652115\n",
       "2015  9210.856860  3479.323095  2786.255608\n",
       "2016  9539.633232  2375.986480  2553.908081\n",
       "2017  5525.160746  6581.908689  3069.433290"
      ]
     },
     "execution_count": 196,
     "metadata": {},
     "output_type": "execute_result"
    }
   ],
   "source": [
    "macro_df = pd.DataFrame(macro_dict)\n",
    "macro_df"
   ]
  },
  {
   "cell_type": "code",
   "execution_count": 197,
   "id": "56f6091a",
   "metadata": {},
   "outputs": [
    {
     "data": {
      "text/html": [
       "<div>\n",
       "<style scoped>\n",
       "    .dataframe tbody tr th:only-of-type {\n",
       "        vertical-align: middle;\n",
       "    }\n",
       "\n",
       "    .dataframe tbody tr th {\n",
       "        vertical-align: top;\n",
       "    }\n",
       "\n",
       "    .dataframe thead th {\n",
       "        text-align: right;\n",
       "    }\n",
       "</style>\n",
       "<table border=\"1\" class=\"dataframe\">\n",
       "  <thead>\n",
       "    <tr style=\"text-align: right;\">\n",
       "      <th></th>\n",
       "      <th>GDP</th>\n",
       "      <th>Money</th>\n",
       "      <th>Price Level</th>\n",
       "      <th>Velocity</th>\n",
       "      <th>Real GDP</th>\n",
       "    </tr>\n",
       "  </thead>\n",
       "  <tbody>\n",
       "    <tr>\n",
       "      <th>1990</th>\n",
       "      <td>371.051181</td>\n",
       "      <td>9391.416746</td>\n",
       "      <td>9820.982691</td>\n",
       "      <td>0.039510</td>\n",
       "      <td>0.037781</td>\n",
       "    </tr>\n",
       "    <tr>\n",
       "      <th>1991</th>\n",
       "      <td>5409.184115</td>\n",
       "      <td>2384.144317</td>\n",
       "      <td>9238.665182</td>\n",
       "      <td>2.268816</td>\n",
       "      <td>0.585494</td>\n",
       "    </tr>\n",
       "    <tr>\n",
       "      <th>1992</th>\n",
       "      <td>3733.330295</td>\n",
       "      <td>4803.331644</td>\n",
       "      <td>5710.754375</td>\n",
       "      <td>0.777238</td>\n",
       "      <td>0.653737</td>\n",
       "    </tr>\n",
       "    <tr>\n",
       "      <th>1993</th>\n",
       "      <td>5421.717959</td>\n",
       "      <td>3469.731418</td>\n",
       "      <td>158.194654</td>\n",
       "      <td>1.562576</td>\n",
       "      <td>34.272448</td>\n",
       "    </tr>\n",
       "    <tr>\n",
       "      <th>1994</th>\n",
       "      <td>9114.619380</td>\n",
       "      <td>2252.149743</td>\n",
       "      <td>3891.518528</td>\n",
       "      <td>4.047075</td>\n",
       "      <td>2.342176</td>\n",
       "    </tr>\n",
       "    <tr>\n",
       "      <th>1995</th>\n",
       "      <td>8083.759070</td>\n",
       "      <td>4423.570336</td>\n",
       "      <td>2311.704401</td>\n",
       "      <td>1.827429</td>\n",
       "      <td>3.496883</td>\n",
       "    </tr>\n",
       "    <tr>\n",
       "      <th>1996</th>\n",
       "      <td>8060.206474</td>\n",
       "      <td>8278.619936</td>\n",
       "      <td>2258.691580</td>\n",
       "      <td>0.973617</td>\n",
       "      <td>3.568529</td>\n",
       "    </tr>\n",
       "    <tr>\n",
       "      <th>1997</th>\n",
       "      <td>4421.660251</td>\n",
       "      <td>1440.758782</td>\n",
       "      <td>4304.108020</td>\n",
       "      <td>3.068980</td>\n",
       "      <td>1.027312</td>\n",
       "    </tr>\n",
       "    <tr>\n",
       "      <th>1998</th>\n",
       "      <td>9149.693358</td>\n",
       "      <td>501.848535</td>\n",
       "      <td>8389.136348</td>\n",
       "      <td>18.231982</td>\n",
       "      <td>1.090660</td>\n",
       "    </tr>\n",
       "    <tr>\n",
       "      <th>1999</th>\n",
       "      <td>5332.174352</td>\n",
       "      <td>2977.637846</td>\n",
       "      <td>776.535638</td>\n",
       "      <td>1.790740</td>\n",
       "      <td>6.866619</td>\n",
       "    </tr>\n",
       "    <tr>\n",
       "      <th>2000</th>\n",
       "      <td>3955.894981</td>\n",
       "      <td>8278.014786</td>\n",
       "      <td>2424.157628</td>\n",
       "      <td>0.477880</td>\n",
       "      <td>1.631864</td>\n",
       "    </tr>\n",
       "    <tr>\n",
       "      <th>2001</th>\n",
       "      <td>6084.988076</td>\n",
       "      <td>2448.306024</td>\n",
       "      <td>7921.428891</td>\n",
       "      <td>2.485387</td>\n",
       "      <td>0.768168</td>\n",
       "    </tr>\n",
       "    <tr>\n",
       "      <th>2002</th>\n",
       "      <td>7299.565225</td>\n",
       "      <td>5118.128831</td>\n",
       "      <td>1305.384850</td>\n",
       "      <td>1.426218</td>\n",
       "      <td>5.591888</td>\n",
       "    </tr>\n",
       "    <tr>\n",
       "      <th>2003</th>\n",
       "      <td>8283.981817</td>\n",
       "      <td>3881.421487</td>\n",
       "      <td>7726.936452</td>\n",
       "      <td>2.134265</td>\n",
       "      <td>1.072091</td>\n",
       "    </tr>\n",
       "    <tr>\n",
       "      <th>2004</th>\n",
       "      <td>3690.549096</td>\n",
       "      <td>2737.000489</td>\n",
       "      <td>7339.270392</td>\n",
       "      <td>1.348392</td>\n",
       "      <td>0.502850</td>\n",
       "    </tr>\n",
       "    <tr>\n",
       "      <th>2005</th>\n",
       "      <td>2459.451030</td>\n",
       "      <td>3733.745326</td>\n",
       "      <td>8283.729533</td>\n",
       "      <td>0.658709</td>\n",
       "      <td>0.296901</td>\n",
       "    </tr>\n",
       "    <tr>\n",
       "      <th>2006</th>\n",
       "      <td>7213.149857</td>\n",
       "      <td>8210.389111</td>\n",
       "      <td>2552.046984</td>\n",
       "      <td>0.878539</td>\n",
       "      <td>2.826417</td>\n",
       "    </tr>\n",
       "    <tr>\n",
       "      <th>2007</th>\n",
       "      <td>2263.303245</td>\n",
       "      <td>8526.845513</td>\n",
       "      <td>7899.148028</td>\n",
       "      <td>0.265433</td>\n",
       "      <td>0.286525</td>\n",
       "    </tr>\n",
       "    <tr>\n",
       "      <th>2008</th>\n",
       "      <td>6360.173596</td>\n",
       "      <td>2006.232143</td>\n",
       "      <td>1407.167804</td>\n",
       "      <td>3.170208</td>\n",
       "      <td>4.519840</td>\n",
       "    </tr>\n",
       "    <tr>\n",
       "      <th>2009</th>\n",
       "      <td>4181.470746</td>\n",
       "      <td>3424.033923</td>\n",
       "      <td>8807.666023</td>\n",
       "      <td>1.221212</td>\n",
       "      <td>0.474754</td>\n",
       "    </tr>\n",
       "    <tr>\n",
       "      <th>2010</th>\n",
       "      <td>7432.739728</td>\n",
       "      <td>8498.314217</td>\n",
       "      <td>5560.108044</td>\n",
       "      <td>0.874613</td>\n",
       "      <td>1.336798</td>\n",
       "    </tr>\n",
       "    <tr>\n",
       "      <th>2011</th>\n",
       "      <td>6363.497308</td>\n",
       "      <td>2766.287637</td>\n",
       "      <td>9584.148412</td>\n",
       "      <td>2.300374</td>\n",
       "      <td>0.663961</td>\n",
       "    </tr>\n",
       "    <tr>\n",
       "      <th>2012</th>\n",
       "      <td>8878.016776</td>\n",
       "      <td>8540.882454</td>\n",
       "      <td>1937.680358</td>\n",
       "      <td>1.039473</td>\n",
       "      <td>4.581776</td>\n",
       "    </tr>\n",
       "    <tr>\n",
       "      <th>2013</th>\n",
       "      <td>8541.470436</td>\n",
       "      <td>5205.419663</td>\n",
       "      <td>5851.757228</td>\n",
       "      <td>1.640880</td>\n",
       "      <td>1.459642</td>\n",
       "    </tr>\n",
       "    <tr>\n",
       "      <th>2014</th>\n",
       "      <td>8360.467467</td>\n",
       "      <td>4760.320240</td>\n",
       "      <td>5185.652115</td>\n",
       "      <td>1.756283</td>\n",
       "      <td>1.612231</td>\n",
       "    </tr>\n",
       "    <tr>\n",
       "      <th>2015</th>\n",
       "      <td>9210.856860</td>\n",
       "      <td>3479.323095</td>\n",
       "      <td>2786.255608</td>\n",
       "      <td>2.647313</td>\n",
       "      <td>3.305819</td>\n",
       "    </tr>\n",
       "    <tr>\n",
       "      <th>2016</th>\n",
       "      <td>9539.633232</td>\n",
       "      <td>2375.986480</td>\n",
       "      <td>2553.908081</td>\n",
       "      <td>4.015020</td>\n",
       "      <td>3.735308</td>\n",
       "    </tr>\n",
       "    <tr>\n",
       "      <th>2017</th>\n",
       "      <td>5525.160746</td>\n",
       "      <td>6581.908689</td>\n",
       "      <td>3069.433290</td>\n",
       "      <td>0.839447</td>\n",
       "      <td>1.800059</td>\n",
       "    </tr>\n",
       "  </tbody>\n",
       "</table>\n",
       "</div>"
      ],
      "text/plain": [
       "              GDP        Money  Price Level   Velocity   Real GDP\n",
       "1990   371.051181  9391.416746  9820.982691   0.039510   0.037781\n",
       "1991  5409.184115  2384.144317  9238.665182   2.268816   0.585494\n",
       "1992  3733.330295  4803.331644  5710.754375   0.777238   0.653737\n",
       "1993  5421.717959  3469.731418   158.194654   1.562576  34.272448\n",
       "1994  9114.619380  2252.149743  3891.518528   4.047075   2.342176\n",
       "1995  8083.759070  4423.570336  2311.704401   1.827429   3.496883\n",
       "1996  8060.206474  8278.619936  2258.691580   0.973617   3.568529\n",
       "1997  4421.660251  1440.758782  4304.108020   3.068980   1.027312\n",
       "1998  9149.693358   501.848535  8389.136348  18.231982   1.090660\n",
       "1999  5332.174352  2977.637846   776.535638   1.790740   6.866619\n",
       "2000  3955.894981  8278.014786  2424.157628   0.477880   1.631864\n",
       "2001  6084.988076  2448.306024  7921.428891   2.485387   0.768168\n",
       "2002  7299.565225  5118.128831  1305.384850   1.426218   5.591888\n",
       "2003  8283.981817  3881.421487  7726.936452   2.134265   1.072091\n",
       "2004  3690.549096  2737.000489  7339.270392   1.348392   0.502850\n",
       "2005  2459.451030  3733.745326  8283.729533   0.658709   0.296901\n",
       "2006  7213.149857  8210.389111  2552.046984   0.878539   2.826417\n",
       "2007  2263.303245  8526.845513  7899.148028   0.265433   0.286525\n",
       "2008  6360.173596  2006.232143  1407.167804   3.170208   4.519840\n",
       "2009  4181.470746  3424.033923  8807.666023   1.221212   0.474754\n",
       "2010  7432.739728  8498.314217  5560.108044   0.874613   1.336798\n",
       "2011  6363.497308  2766.287637  9584.148412   2.300374   0.663961\n",
       "2012  8878.016776  8540.882454  1937.680358   1.039473   4.581776\n",
       "2013  8541.470436  5205.419663  5851.757228   1.640880   1.459642\n",
       "2014  8360.467467  4760.320240  5185.652115   1.756283   1.612231\n",
       "2015  9210.856860  3479.323095  2786.255608   2.647313   3.305819\n",
       "2016  9539.633232  2375.986480  2553.908081   4.015020   3.735308\n",
       "2017  5525.160746  6581.908689  3069.433290   0.839447   1.800059"
      ]
     },
     "execution_count": 197,
     "metadata": {},
     "output_type": "execute_result"
    }
   ],
   "source": [
    "macro_df[\"Velocity\"] = macro_df[\"GDP\"] / macro_df[\"Money\"]\n",
    "macro_df[\"Real GDP\"] = macro_df[\"GDP\"] / macro_df[\"Price Level\"]\n",
    "macro_df"
   ]
  },
  {
   "cell_type": "markdown",
   "id": "fd404445",
   "metadata": {},
   "source": [
    "### You can call a subset of rows"
   ]
  },
  {
   "cell_type": "code",
   "execution_count": 198,
   "id": "a6d8adf5",
   "metadata": {},
   "outputs": [
    {
     "data": {
      "text/html": [
       "<div>\n",
       "<style scoped>\n",
       "    .dataframe tbody tr th:only-of-type {\n",
       "        vertical-align: middle;\n",
       "    }\n",
       "\n",
       "    .dataframe tbody tr th {\n",
       "        vertical-align: top;\n",
       "    }\n",
       "\n",
       "    .dataframe thead th {\n",
       "        text-align: right;\n",
       "    }\n",
       "</style>\n",
       "<table border=\"1\" class=\"dataframe\">\n",
       "  <thead>\n",
       "    <tr style=\"text-align: right;\">\n",
       "      <th></th>\n",
       "      <th>GDP</th>\n",
       "      <th>Money</th>\n",
       "      <th>Price Level</th>\n",
       "      <th>Velocity</th>\n",
       "      <th>Real GDP</th>\n",
       "    </tr>\n",
       "  </thead>\n",
       "  <tbody>\n",
       "    <tr>\n",
       "      <th>1995</th>\n",
       "      <td>8083.759070</td>\n",
       "      <td>4423.570336</td>\n",
       "      <td>2311.704401</td>\n",
       "      <td>1.827429</td>\n",
       "      <td>3.496883</td>\n",
       "    </tr>\n",
       "    <tr>\n",
       "      <th>1996</th>\n",
       "      <td>8060.206474</td>\n",
       "      <td>8278.619936</td>\n",
       "      <td>2258.691580</td>\n",
       "      <td>0.973617</td>\n",
       "      <td>3.568529</td>\n",
       "    </tr>\n",
       "    <tr>\n",
       "      <th>1997</th>\n",
       "      <td>4421.660251</td>\n",
       "      <td>1440.758782</td>\n",
       "      <td>4304.108020</td>\n",
       "      <td>3.068980</td>\n",
       "      <td>1.027312</td>\n",
       "    </tr>\n",
       "    <tr>\n",
       "      <th>1998</th>\n",
       "      <td>9149.693358</td>\n",
       "      <td>501.848535</td>\n",
       "      <td>8389.136348</td>\n",
       "      <td>18.231982</td>\n",
       "      <td>1.090660</td>\n",
       "    </tr>\n",
       "    <tr>\n",
       "      <th>1999</th>\n",
       "      <td>5332.174352</td>\n",
       "      <td>2977.637846</td>\n",
       "      <td>776.535638</td>\n",
       "      <td>1.790740</td>\n",
       "      <td>6.866619</td>\n",
       "    </tr>\n",
       "    <tr>\n",
       "      <th>2000</th>\n",
       "      <td>3955.894981</td>\n",
       "      <td>8278.014786</td>\n",
       "      <td>2424.157628</td>\n",
       "      <td>0.477880</td>\n",
       "      <td>1.631864</td>\n",
       "    </tr>\n",
       "  </tbody>\n",
       "</table>\n",
       "</div>"
      ],
      "text/plain": [
       "              GDP        Money  Price Level   Velocity  Real GDP\n",
       "1995  8083.759070  4423.570336  2311.704401   1.827429  3.496883\n",
       "1996  8060.206474  8278.619936  2258.691580   0.973617  3.568529\n",
       "1997  4421.660251  1440.758782  4304.108020   3.068980  1.027312\n",
       "1998  9149.693358   501.848535  8389.136348  18.231982  1.090660\n",
       "1999  5332.174352  2977.637846   776.535638   1.790740  6.866619\n",
       "2000  3955.894981  8278.014786  2424.157628   0.477880  1.631864"
      ]
     },
     "execution_count": 198,
     "metadata": {},
     "output_type": "execute_result"
    }
   ],
   "source": [
    "macro_df.loc[1995:2000]"
   ]
  },
  {
   "cell_type": "code",
   "execution_count": 199,
   "id": "480fdfda",
   "metadata": {},
   "outputs": [
    {
     "data": {
      "text/plain": [
       "1995    3.496883\n",
       "1996    3.568529\n",
       "1997    1.027312\n",
       "1998    1.090660\n",
       "1999    6.866619\n",
       "2000    1.631864\n",
       "Name: Real GDP, dtype: float64"
      ]
     },
     "execution_count": 199,
     "metadata": {},
     "output_type": "execute_result"
    }
   ],
   "source": [
    "macro_df[\"Real GDP\"].loc[1995:2000]"
   ]
  },
  {
   "cell_type": "code",
   "execution_count": 201,
   "id": "642cefda",
   "metadata": {},
   "outputs": [
    {
     "data": {
      "text/plain": [
       "1995    3.496883\n",
       "1996    3.568529\n",
       "1997    1.027312\n",
       "1998    1.090660\n",
       "1999    6.866619\n",
       "2000    1.631864\n",
       "Name: Real GDP, dtype: float64"
      ]
     },
     "execution_count": 201,
     "metadata": {},
     "output_type": "execute_result"
    }
   ],
   "source": [
    "macro_df.loc[1995:2000][\"Real GDP\"]"
   ]
  },
  {
   "cell_type": "code",
   "execution_count": 210,
   "id": "3611cbfa",
   "metadata": {},
   "outputs": [
    {
     "data": {
      "text/plain": [
       "1995    3.496883\n",
       "1996    3.568529\n",
       "1997    1.027312\n",
       "1998    1.090660\n",
       "1999    6.866619\n",
       "2000    1.631864\n",
       "Name: Real GDP, dtype: float64"
      ]
     },
     "execution_count": 210,
     "metadata": {},
     "output_type": "execute_result"
    }
   ],
   "source": [
    "macro_df.iloc[5:11][\"Real GDP\"]"
   ]
  },
  {
   "cell_type": "markdown",
   "id": "ab0ef20f",
   "metadata": {},
   "source": [
    "## Matplotlib"
   ]
  },
  {
   "cell_type": "code",
   "execution_count": 213,
   "id": "10968d22",
   "metadata": {},
   "outputs": [
    {
     "data": {
      "text/plain": [
       "<AxesSubplot:>"
      ]
     },
     "execution_count": 213,
     "metadata": {},
     "output_type": "execute_result"
    },
    {
     "data": {
      "image/png": "[encoded data removed]",
      "text/plain": [
       "<Figure size 432x288 with 1 Axes>"
      ]
     },
     "metadata": {
      "needs_background": "light"
     },
     "output_type": "display_data"
    }
   ],
   "source": [
    "macro_df.plot()"
   ]
  },
  {
   "cell_type": "code",
   "execution_count": 216,
   "id": "93c8f463",
   "metadata": {},
   "outputs": [
    {
     "data": {
      "text/plain": [
       "<AxesSubplot:>"
      ]
     },
     "execution_count": 216,
     "metadata": {},
     "output_type": "execute_result"
    },
    {
     "data": {
      "image/png": "[encoded data removed]",
      "text/plain": [
       "<Figure size 432x288 with 1 Axes>"
      ]
     },
     "metadata": {
      "needs_background": "light"
     },
     "output_type": "display_data"
    }
   ],
   "source": [
    "import matplotlib.pyplot as plt\n",
    "%matplotlib inline\n",
    "macro_df.plot.line(legend = \"best\")"
   ]
  },
  {
   "cell_type": "code",
   "execution_count": 223,
   "id": "150255a8",
   "metadata": {},
   "outputs": [
    {
     "data": {
      "image/png": "[encoded data removed]",
      "text/plain": [
       "<Figure size 288x216 with 1 Axes>"
      ]
     },
     "metadata": {
      "needs_background": "light"
     },
     "output_type": "display_data"
    },
    {
     "data": {
      "image/png": "[encoded data removed]",
      "text/plain": [
       "<Figure size 288x216 with 1 Axes>"
      ]
     },
     "metadata": {
      "needs_background": "light"
     },
     "output_type": "display_data"
    },
    {
     "data": {
      "image/png": "[encoded data removed]",
      "text/plain": [
       "<Figure size 288x216 with 1 Axes>"
      ]
     },
     "metadata": {
      "needs_background": "light"
     },
     "output_type": "display_data"
    },
    {
     "data": {
      "image/png": "[encoded data removed]",
      "text/plain": [
       "<Figure size 288x216 with 1 Axes>"
      ]
     },
     "metadata": {
      "needs_background": "light"
     },
     "output_type": "display_data"
    },
    {
     "data": {
      "image/png": "[encoded data removed]",
      "text/plain": [
       "<Figure size 288x216 with 1 Axes>"
      ]
     },
     "metadata": {
      "needs_background": "light"
     },
     "output_type": "display_data"
    }
   ],
   "source": [
    "for key in macro_df:\n",
    "    #fig, ax = plt.subplots() allows you to adjust different features of box\n",
    "    fig, ax = plt.subplots(figsize = (4,3)) #size\n",
    "    macro_df[key].plot.line()\n",
    "    plt.title(key, fontsize = 20)\n",
    "    #do the following, otherwise will plot on one graph:\n",
    "    plt.show()\n",
    "    plt.close()"
   ]
  },
  {
   "cell_type": "code",
   "execution_count": null,
   "id": "e2d04504",
   "metadata": {},
   "outputs": [],
   "source": []
  }
 ],
 "metadata": {
  "kernelspec": {
   "display_name": "Python 3",
   "language": "python",
   "name": "python3"
  },
  "language_info": {
   "codemirror_mode": {
    "name": "ipython",
    "version": 3
   },
   "file_extension": ".py",
   "mimetype": "text/x-python",
   "name": "python",
   "nbconvert_exporter": "python",
   "pygments_lexer": "ipython3",
   "version": "3.8.8"
  }
 },
 "nbformat": 4,
 "nbformat_minor": 5
}
