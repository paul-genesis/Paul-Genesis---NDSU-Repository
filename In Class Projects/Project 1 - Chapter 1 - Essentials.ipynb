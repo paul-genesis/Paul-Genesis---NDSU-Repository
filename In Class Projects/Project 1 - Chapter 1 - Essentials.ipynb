{
 "cells": [
  {
   "cell_type": "markdown",
   "id": "f29a4d59",
   "metadata": {},
   "source": [
    "# Project 1 - CH1 - Essentials"
   ]
  },
  {
   "cell_type": "markdown",
   "id": "e92fba23",
   "metadata": {},
   "source": [
    "## Hello World!"
   ]
  },
  {
   "cell_type": "markdown",
   "id": "08a409db",
   "metadata": {},
   "source": [
    "#### Print Hello World - Standard way to learn a new programming language"
   ]
  },
  {
   "cell_type": "code",
   "execution_count": 2,
   "id": "b916a19d",
   "metadata": {},
   "outputs": [
    {
     "name": "stdout",
     "output_type": "stream",
     "text": [
      "Hello World!\n"
     ]
    }
   ],
   "source": [
    "print(\"Hello World!\")"
   ]
  },
  {
   "cell_type": "code",
   "execution_count": 4,
   "id": "56e62a8b",
   "metadata": {},
   "outputs": [
    {
     "name": "stdout",
     "output_type": "stream",
     "text": [
      "I used a variable to print:  Hello World!\n"
     ]
    }
   ],
   "source": [
    "x = \"Hello World!\"\n",
    "print(\"I used a variable to print: \", x)"
   ]
  },
  {
   "cell_type": "markdown",
   "id": "ff95afe4",
   "metadata": {},
   "source": [
    "## String Methods"
   ]
  },
  {
   "cell_type": "markdown",
   "id": "28848b47",
   "metadata": {},
   "source": [
    "### Capitalize Strings"
   ]
  },
  {
   "cell_type": "code",
   "execution_count": 7,
   "id": "c4747923",
   "metadata": {},
   "outputs": [
    {
     "name": "stdout",
     "output_type": "stream",
     "text": [
      "I will use a function to capitalize the entire msg:  JOHN NASH\n",
      "I will use a function to capitalize only the first letter of each word of the message:  John Nash\n"
     ]
    }
   ],
   "source": [
    "msg = \"john nash\"\n",
    "print(\"I will use a function to capitalize the entire msg: \", msg.upper())\n",
    "print(\"I will use a function to capitalize only the first letter of each word of the message: \", msg.title())"
   ]
  },
  {
   "cell_type": "markdown",
   "id": "8d742a9a",
   "metadata": {},
   "source": [
    "### Concatenation"
   ]
  },
  {
   "cell_type": "code",
   "execution_count": 12,
   "id": "4b341e2b",
   "metadata": {},
   "outputs": [
    {
     "name": "stdout",
     "output_type": "stream",
     "text": [
      "genesis paul\n",
      "GENESIS PAUL\n",
      "Genesis Paul\n"
     ]
    }
   ],
   "source": [
    "name = \"genesis\" + \" \" + \"paul\"\n",
    "print(name)\n",
    "print(name.upper())\n",
    "print(name.title())"
   ]
  },
  {
   "cell_type": "markdown",
   "id": "264912d0",
   "metadata": {},
   "source": [
    "#### Create 4 strings and concantenate the strings"
   ]
  },
  {
   "cell_type": "code",
   "execution_count": 14,
   "id": "62c06173",
   "metadata": {},
   "outputs": [],
   "source": [
    "line1 = \"I am getting a minor in economics\"\n",
    "line2 = \"I took this course to fulfill a minor requirement\"\n",
    "line3 = \"It isn't what I expected from an economics class\"\n",
    "line4 = \"I think I am going to gain a lot of skills that will transfer to my career\""
   ]
  },
  {
   "cell_type": "code",
   "execution_count": 19,
   "id": "c139aa74",
   "metadata": {},
   "outputs": [
    {
     "name": "stdout",
     "output_type": "stream",
     "text": [
      "I am getting a minor in economicsI took this course to fulfill a minor requirementIt isn't what I expected from an economics classI think I am going to gain a lot of skills that will transfer to my career\n",
      "\n",
      "\n",
      "I am getting a minor in economics I took this course to fulfill a minor requirement It isn't what I expected from an economics class I think I am going to gain a lot of skills that will transfer to my career\n",
      "\n",
      "\n",
      "I am getting a minor in economics\n",
      "I took this course to fulfill a minor requirement\n",
      "It isn't what I expected from an economics class\n",
      "I think I am going to gain a lot of skills that will transfer to my career\n",
      "\n",
      "\n",
      "I am getting a minor in economics I took this course to fulfill a minor requirement It isn't what I expected from an economics class I think I am going to gain a lot of skills that will transfer to my career\n",
      "\n",
      "\n",
      "I am getting a minor in economics I took this course to fulfill a minor requirement It isn't what I expected from an economics class I think I am going to gain a lot of skills that will transfer to my career\n",
      "\n",
      "\n",
      "I am getting a minor in economics\n",
      "I took this course to fulfill a minor requirement\n",
      "It isn't what I expected from an economics class\n",
      "I think I am going to gain a lot of skills that will transfer to my career\n"
     ]
    }
   ],
   "source": [
    "#concatenate\n",
    "print(line1+line2+line3+line4)\n",
    "print(\"\\n\")\n",
    "#concatenate with spaces\n",
    "print(line1+\" \"+line2+\" \"+line3+\" \"+line4)\n",
    "print(\"\\n\")\n",
    "#concatenate with new lines\n",
    "print(line1+\"\\n\"+line2+\"\\n\"+line3+\"\\n\"+line4)\n",
    "print(\"\\n\")\n",
    "#concatenate with commas\n",
    "print(line1, line2, line3, line4)\n",
    "print(\"\\n\")\n",
    "#define comma - space\n",
    "print(line1, line2, line3, line4, sep=\" \")\n",
    "print(\"\\n\")\n",
    "#define comma - new line\n",
    "print(line1, line2, line3, line4, sep=\"\\n\")"
   ]
  },
  {
   "cell_type": "markdown",
   "id": "d00cec19",
   "metadata": {},
   "source": [
    "#### Quotes in Quotes"
   ]
  },
  {
   "cell_type": "code",
   "execution_count": 21,
   "id": "16f1a9a6",
   "metadata": {},
   "outputs": [
    {
     "name": "stdout",
     "output_type": "stream",
     "text": [
      "We may use 'single quotes' within double quotes\n",
      "We may use \"double quotes\" within single quotes\n"
     ]
    }
   ],
   "source": [
    "single_in_double = \"We may use 'single quotes' within double quotes\"\n",
    "double_in_single = 'We may use \"double quotes\" within single quotes'\n",
    "print(single_in_double)\n",
    "print(double_in_single)"
   ]
  },
  {
   "cell_type": "markdown",
   "id": "461da0f8",
   "metadata": {},
   "source": [
    "### Escape Sequences"
   ]
  },
  {
   "cell_type": "markdown",
   "id": "2d37e5d6",
   "metadata": {},
   "source": [
    "#### Backslash, Single Quote, Double Quote, Horizontal Tab, New Line"
   ]
  },
  {
   "cell_type": "code",
   "execution_count": 24,
   "id": "cd6c9331",
   "metadata": {},
   "outputs": [
    {
     "name": "stdout",
     "output_type": "stream",
     "text": [
      "We may use 'single quotes' in single quotes.\n",
      "\n",
      "\n",
      "We may use 'single quotes' in single quotes\n",
      "\n",
      "\n",
      "We may use \"double quotes\" in double quotes\n",
      "\n",
      "\n",
      "Every\n",
      "word\n",
      "is\n",
      "a\n",
      "new\n",
      "line\n",
      "\n",
      "\n",
      "We may start a new line \n",
      "\tand use tab for a hanging indent\n"
     ]
    }
   ],
   "source": [
    "#backslash\n",
    "read_blackslash = 'We may use \\'single quotes\\' in single quotes.'\n",
    "print(read_blackslash)\n",
    "print(\"\\n\")\n",
    "#single quote\n",
    "single_quotes = 'We may use \\'single quotes\\' in single quotes'\n",
    "print(single_quotes)\n",
    "print(\"\\n\")\n",
    "#double quote\n",
    "double_quotes = \"We may use \\\"double quotes\\\" in double quotes\"\n",
    "print(double_quotes)\n",
    "print(\"\\n\")\n",
    "#horizontal tab\n",
    "new_line_new_tab = \"Every\\nword\\nis\\na\\nnew\\nline\"\n",
    "print(new_line_new_tab)\n",
    "print(\"\\n\")\n",
    "#new line\n",
    "lines = \"We may start a new line \\n\\tand use tab for a hanging indent\"\n",
    "print(lines)"
   ]
  },
  {
   "cell_type": "markdown",
   "id": "9df69738",
   "metadata": {},
   "source": [
    "Other escape sequences include:\n",
    "Backspace: \"\\b\"\n",
    "Formfeed: \"\\f\"\n",
    "Vertical Tab: \"\\v\""
   ]
  },
  {
   "cell_type": "markdown",
   "id": "34b67005",
   "metadata": {},
   "source": [
    "### More String Functions"
   ]
  },
  {
   "cell_type": "markdown",
   "id": "d2f02d41",
   "metadata": {},
   "source": [
    "#### Removing Spaces"
   ]
  },
  {
   "cell_type": "code",
   "execution_count": 28,
   "id": "cdb3d7bd",
   "metadata": {},
   "outputs": [
    {
     "name": "stdout",
     "output_type": "stream",
     "text": [
      "no spaces removed:\n",
      "    Look at all the spaces in this text.   \n"
     ]
    }
   ],
   "source": [
    "spaces = \"   Look at all the spaces in this text.   \"\n",
    "print(\"no spaces removed:\\n\", spaces)"
   ]
  },
  {
   "cell_type": "code",
   "execution_count": 35,
   "id": "82a4aaf4",
   "metadata": {},
   "outputs": [
    {
     "name": "stdout",
     "output_type": "stream",
     "text": [
      "remove spaces to the left:\n",
      " Look at all the spaces in this text.   \n",
      "\n",
      "\n",
      "remove all spaces:\n",
      " Lookatallthespacesinthistext.\n"
     ]
    }
   ],
   "source": [
    "#replace\n",
    "print(\"remove spaces to the left:\\n\", remove_L)\n",
    "print(\"\\n\")\n",
    "remove_all = spaces.replace(\" \", \"\")\n",
    "print(\"remove all spaces:\\n\", remove_all)"
   ]
  },
  {
   "cell_type": "code",
   "execution_count": 39,
   "id": "f4cfcbb0",
   "metadata": {},
   "outputs": [
    {
     "name": "stdout",
     "output_type": "stream",
     "text": [
      "remove spaces to the left:\n",
      " Look at all the spaces in this text.   \n",
      "\n",
      "\n",
      "remove spaces to the right:\n",
      "    Look at all the spaces in this text.\n",
      "\n",
      "\n",
      "remove spaces to the left and right:\n",
      "    Look at all the spaces in this text.\n"
     ]
    }
   ],
   "source": [
    "#remove left spaces\n",
    "remove_L = spaces.lstrip()\n",
    "print(\"remove spaces to the left:\\n\", remove_L)\n",
    "print(\"\\n\")\n",
    "#remove right spaces\n",
    "remove_R = spaces.rstrip()\n",
    "print(\"remove spaces to the right:\\n\", remove_R)\n",
    "print(\"\\n\")\n",
    "#remove left and right spaces\n",
    "remove_L_R = spaces.strip()\n",
    "print(\"remove spaces to the left and right:\\n\", remove_R)"
   ]
  },
  {
   "cell_type": "markdown",
   "id": "4149573e",
   "metadata": {},
   "source": [
    "#### Triple Quotes"
   ]
  },
  {
   "cell_type": "code",
   "execution_count": 38,
   "id": "83910a57",
   "metadata": {},
   "outputs": [
    {
     "name": "stdout",
     "output_type": "stream",
     "text": [
      "Everything in triple quotes will be recored exactly as entered,\n",
      "if we enter a new line or\n",
      "    a new line with a tab.\n"
     ]
    }
   ],
   "source": [
    "#triple quotes\n",
    "x = \"\"\"\\\n",
    "Everything in triple quotes will be recored exactly as entered,\n",
    "if we enter a new line or\n",
    "    a new line with a tab.\"\"\"\n",
    "print(x)"
   ]
  },
  {
   "cell_type": "markdown",
   "id": "4a244ef9",
   "metadata": {},
   "source": [
    "## Working with Numbers"
   ]
  },
  {
   "cell_type": "markdown",
   "id": "ef988503",
   "metadata": {},
   "source": [
    "### Integers, Floats, Errors, Typecasting, Modules, Overflow Error"
   ]
  },
  {
   "cell_type": "markdown",
   "id": "df82068d",
   "metadata": {},
   "source": [
    "#### Integers are natural numbers, Floats include decimals"
   ]
  },
  {
   "cell_type": "code",
   "execution_count": 45,
   "id": "5d824878",
   "metadata": {},
   "outputs": [
    {
     "name": "stdout",
     "output_type": "stream",
     "text": [
      "num1:  8\n",
      "\n",
      "num1s:  53\n"
     ]
    }
   ],
   "source": [
    "#Integers\n",
    "num1 = 5+3\n",
    "print(\"num1: \", num1)\n",
    "num1s = \"5\" + \"3\"\n",
    "print(\"\\nnum1s: \", num1s)"
   ]
  },
  {
   "cell_type": "code",
   "execution_count": 1,
   "id": "381bea93",
   "metadata": {},
   "outputs": [
    {
     "name": "stdout",
     "output_type": "stream",
     "text": [
      "num2: 1.6666666666666667 \n",
      "num3: 1.25 \n",
      "num4: 1.3333333333333333\n"
     ]
    }
   ],
   "source": [
    "#Floats\n",
    "num2 = 5/3\n",
    "num3 = 5/4\n",
    "num4 = 4/3\n",
    "\n",
    "print(\"num2:\", num2, \"\\nnum3:\", num3, \"\\nnum4:\", num4)"
   ]
  },
  {
   "cell_type": "markdown",
   "id": "6d352f1e",
   "metadata": {},
   "source": [
    "Although floats clearly contain multiple decimal places (in the case of num2 and num4, the decimal repeats infinitely) however, flots do have a limit in length. See below:"
   ]
  },
  {
   "cell_type": "code",
   "execution_count": 3,
   "id": "0f600ce9",
   "metadata": {},
   "outputs": [
    {
     "name": "stdout",
     "output_type": "stream",
     "text": [
      "sys.float_info(max=1.7976931348623157e+308, max_exp=1024, max_10_exp=308, min=2.2250738585072014e-308, min_exp=-1021, min_10_exp=-307, dig=15, mant_dig=53, epsilon=2.220446049250313e-16, radix=2, rounds=1)\n"
     ]
    }
   ],
   "source": [
    "import sys\n",
    "print(sys.float_info)"
   ]
  },
  {
   "cell_type": "markdown",
   "id": "3c8f74ae",
   "metadata": {},
   "source": [
    "Overflow errors can occur, see below:"
   ]
  },
  {
   "cell_type": "code",
   "execution_count": 7,
   "id": "e201b5f7",
   "metadata": {},
   "outputs": [
    {
     "name": "stdout",
     "output_type": "stream",
     "text": [
      "8.98846567431158e+307\n"
     ]
    },
    {
     "ename": "OverflowError",
     "evalue": "(34, 'Result too large')",
     "output_type": "error",
     "traceback": [
      "\u001b[1;31m---------------------------------------------------------------------------\u001b[0m",
      "\u001b[1;31mOverflowError\u001b[0m                             Traceback (most recent call last)",
      "\u001b[1;32m<ipython-input-7-6c4f8238d0a2>\u001b[0m in \u001b[0;36m<module>\u001b[1;34m\u001b[0m\n\u001b[0;32m      1\u001b[0m \u001b[0mx\u001b[0m \u001b[1;33m=\u001b[0m \u001b[1;36m2.0\u001b[0m \u001b[1;33m**\u001b[0m \u001b[1;36m1023\u001b[0m\u001b[1;33m\u001b[0m\u001b[1;33m\u001b[0m\u001b[0m\n\u001b[0;32m      2\u001b[0m \u001b[0mprint\u001b[0m\u001b[1;33m(\u001b[0m\u001b[0mx\u001b[0m\u001b[1;33m)\u001b[0m\u001b[1;33m\u001b[0m\u001b[1;33m\u001b[0m\u001b[0m\n\u001b[1;32m----> 3\u001b[1;33m \u001b[0mnum2\u001b[0m \u001b[1;33m=\u001b[0m \u001b[1;36m2.0\u001b[0m \u001b[1;33m**\u001b[0m \u001b[1;36m1024\u001b[0m\u001b[1;33m\u001b[0m\u001b[1;33m\u001b[0m\u001b[0m\n\u001b[0m",
      "\u001b[1;31mOverflowError\u001b[0m: (34, 'Result too large')"
     ]
    }
   ],
   "source": [
    "x = 2.0 ** 1023\n",
    "print(x)\n",
    "num2 = 2.0 ** 1024"
   ]
  },
  {
   "cell_type": "code",
   "execution_count": 9,
   "id": "066ef712",
   "metadata": {},
   "outputs": [
    {
     "name": "stdout",
     "output_type": "stream",
     "text": [
      "x is of <class 'float'> and is equal to 8.98846567431158e+307\n",
      "\n",
      "\n",
      "y is of <class 'int'> and is equal to 359538626972463181545861038157804946723595395788461314546860162315465351611001926265416954644815072042240227759742786715317579537628833244985694861278948248755535786849730970552604439202492188238906165904170011537676301364684925762947826221081654474326701021369172596479894491876959432609670712659248448274432\n"
     ]
    }
   ],
   "source": [
    "print(\"x is of\", type(x), \"and is equal to\", x)\n",
    "print(\"\\n\")\n",
    "y = 2 ** 1025\n",
    "print(\"y is of\", type(y), \"and is equal to\", y)"
   ]
  },
  {
   "cell_type": "markdown",
   "id": "19687865",
   "metadata": {},
   "source": [
    "## Exercises"
   ]
  },
  {
   "cell_type": "markdown",
   "id": "9b67ea37",
   "metadata": {},
   "source": [
    "#### 1. Record Name and Description of Self"
   ]
  },
  {
   "cell_type": "code",
   "execution_count": 1,
   "id": "4b4667b1",
   "metadata": {},
   "outputs": [
    {
     "name": "stdout",
     "output_type": "stream",
     "text": [
      "Genesis Paul is a Math and Stats major at NDSU\n"
     ]
    }
   ],
   "source": [
    "x = \"genesis paul\"\n",
    "xDes = \"Math and Stats major at NDSU\"\n",
    "print(x.title() + \" is a \" + xDes)"
   ]
  },
  {
   "cell_type": "markdown",
   "id": "05a26d11",
   "metadata": {},
   "source": [
    "#### 2. Raise 2 to the 4th Power"
   ]
  },
  {
   "cell_type": "code",
   "execution_count": 21,
   "id": "84efc34a",
   "metadata": {},
   "outputs": [
    {
     "name": "stdout",
     "output_type": "stream",
     "text": [
      "16\n",
      "32\n",
      "16\n"
     ]
    }
   ],
   "source": [
    "twoToTheFourth = 2 ** 4\n",
    "doubleTwoToTheFourth = twoToTheFourth + twoToTheFourth\n",
    "toStringTwoToTheFourth = str(twoToTheFourth)\n",
    "\n",
    "print(twoToTheFourth, doubleTwoToTheFourth, toStringTwoToTheFourth, sep = \"\\n\")"
   ]
  },
  {
   "cell_type": "markdown",
   "id": "bb8aef16",
   "metadata": {},
   "source": [
    "#### 3. Escape Sequence"
   ]
  },
  {
   "cell_type": "code",
   "execution_count": 23,
   "id": "bed121a8",
   "metadata": {},
   "outputs": [
    {
     "name": "stdout",
     "output_type": "stream",
     "text": [
      "\n"
     ]
    }
   ],
   "source": [
    "escapeSeqString = \"\"\n",
    "print(escapeSeqString)"
   ]
  },
  {
   "cell_type": "markdown",
   "id": "0d61e58a",
   "metadata": {},
   "source": [
    "#### 4. Add and Int and a Float"
   ]
  },
  {
   "cell_type": "code",
   "execution_count": 26,
   "id": "313ca4e2",
   "metadata": {},
   "outputs": [
    {
     "name": "stdout",
     "output_type": "stream",
     "text": [
      "2.3333333333333335\n"
     ]
    }
   ],
   "source": [
    "x = 2 + (1/3)\n",
    "print(x)"
   ]
  },
  {
   "cell_type": "markdown",
   "id": "43c14598",
   "metadata": {},
   "source": [
    "Result: Float"
   ]
  },
  {
   "cell_type": "markdown",
   "id": "b5e1e983",
   "metadata": {},
   "source": [
    "#### 5. Add Following, What is the Outcome? (Intentional Error)"
   ]
  },
  {
   "cell_type": "code",
   "execution_count": 35,
   "id": "759a647a",
   "metadata": {},
   "outputs": [
    {
     "ename": "OverflowError",
     "evalue": "int too large to convert to float",
     "output_type": "error",
     "traceback": [
      "\u001b[1;31m---------------------------------------------------------------------------\u001b[0m",
      "\u001b[1;31mOverflowError\u001b[0m                             Traceback (most recent call last)",
      "\u001b[1;32m<ipython-input-35-b6166b248587>\u001b[0m in \u001b[0;36m<module>\u001b[1;34m\u001b[0m\n\u001b[1;32m----> 1\u001b[1;33m \u001b[0mx\u001b[0m \u001b[1;33m=\u001b[0m \u001b[1;36m2\u001b[0m \u001b[1;33m**\u001b[0m \u001b[1;36m1024\u001b[0m \u001b[1;33m+\u001b[0m \u001b[1;36m1.5\u001b[0m\u001b[1;33m\u001b[0m\u001b[1;33m\u001b[0m\u001b[0m\n\u001b[0m\u001b[0;32m      2\u001b[0m \u001b[0mprint\u001b[0m\u001b[1;33m(\u001b[0m\u001b[0mx\u001b[0m\u001b[1;33m)\u001b[0m\u001b[1;33m\u001b[0m\u001b[1;33m\u001b[0m\u001b[0m\n",
      "\u001b[1;31mOverflowError\u001b[0m: int too large to convert to float"
     ]
    }
   ],
   "source": [
    "x = 2 ** 1024 + 1.5\n",
    "print(x)"
   ]
  },
  {
   "cell_type": "markdown",
   "id": "53ea3809",
   "metadata": {},
   "source": [
    "Result: When an equation includes both an integer and a float, the result must be a float. Therefore, we get an overflow error because the value is larger than the max size of a float."
   ]
  },
  {
   "cell_type": "markdown",
   "id": "2c2f711a",
   "metadata": {},
   "source": [
    "#### 6. Import a String"
   ]
  },
  {
   "cell_type": "code",
   "execution_count": 7,
   "id": "b2f877a9",
   "metadata": {},
   "outputs": [
    {
     "ename": "SyntaxError",
     "evalue": "invalid syntax (<ipython-input-7-724e7d8cc6ed>, line 1)",
     "output_type": "error",
     "traceback": [
      "\u001b[1;36m  File \u001b[1;32m\"<ipython-input-7-724e7d8cc6ed>\"\u001b[1;36m, line \u001b[1;32m1\u001b[0m\n\u001b[1;33m    import(string)\u001b[0m\n\u001b[1;37m          ^\u001b[0m\n\u001b[1;31mSyntaxError\u001b[0m\u001b[1;31m:\u001b[0m invalid syntax\n"
     ]
    }
   ],
   "source": [
    "import(string)"
   ]
  },
  {
   "cell_type": "markdown",
   "id": "1462662d",
   "metadata": {},
   "source": [
    "#### 7. Call 5 Results"
   ]
  },
  {
   "cell_type": "markdown",
   "id": "639269ec",
   "metadata": {},
   "source": [
    "#### 8. Concatenate 3 Distinct Strings"
   ]
  },
  {
   "cell_type": "code",
   "execution_count": 10,
   "id": "8524163b",
   "metadata": {},
   "outputs": [
    {
     "name": "stdout",
     "output_type": "stream",
     "text": [
      "I am a Math & Stats major.I have minors in Business Administration, Computer Science, and Economics.I have a certificate in Finance.\n",
      "\n",
      "\n",
      "I am a Math & Stats major. I have minors in Business Administration, Computer Science, and Economics. I have a certificate in Finance.\n",
      "\n",
      "\n",
      "I am a Math & Stats major.\n",
      "I have minors in Business Administration, Computer Science, and Economics.\n",
      "I have a certificate in Finance.\n"
     ]
    }
   ],
   "source": [
    "string1 = \"I am a Math & Stats major.\"\n",
    "string2 = \"I have minors in Business Administration, Computer Science, and Economics.\"\n",
    "string3 = \"I have a certificate in Finance.\"\n",
    "print(string1+string2+string3)\n",
    "print(\"\\n\")\n",
    "print(string1, string2, string3, sep = \" \")\n",
    "print(\"\\n\")\n",
    "print(string1, string2, string3, sep = \"\\n\")"
   ]
  }
 ],
 "metadata": {
  "kernelspec": {
   "display_name": "Python 3",
   "language": "python",
   "name": "python3"
  },
  "language_info": {
   "codemirror_mode": {
    "name": "ipython",
    "version": 3
   },
   "file_extension": ".py",
   "mimetype": "text/x-python",
   "name": "python",
   "nbconvert_exporter": "python",
   "pygments_lexer": "ipython3",
   "version": "3.8.8"
  }
 },
 "nbformat": 4,
 "nbformat_minor": 5
}
