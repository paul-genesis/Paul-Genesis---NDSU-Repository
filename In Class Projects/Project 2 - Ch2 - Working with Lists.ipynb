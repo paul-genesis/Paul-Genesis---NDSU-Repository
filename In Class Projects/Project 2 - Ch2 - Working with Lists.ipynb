{
 "cells": [
  {
   "cell_type": "markdown",
   "id": "d92ea80e",
   "metadata": {},
   "source": [
    "# Project 2 - Chapter 2 - Working With Lists"
   ]
  },
  {
   "cell_type": "markdown",
   "id": "dc0a478a",
   "metadata": {},
   "source": [
    "## New Concepts: Dynamic List, List Concatenation, List Indexing"
   ]
  },
  {
   "cell_type": "markdown",
   "id": "f35d6650",
   "metadata": {},
   "source": [
    "#### Lists"
   ]
  },
  {
   "cell_type": "code",
   "execution_count": 1,
   "id": "18aef76a",
   "metadata": {},
   "outputs": [
    {
     "name": "stdout",
     "output_type": "stream",
     "text": [
      "[]\n",
      "[1, 2, 3, 4, 5]\n",
      "[1.0, 2.0, 3.0, 4.0, 5.0]\n",
      "['Many words', 'impoverished meaning']\n",
      "[1, 2.0, 'Mix it up']\n"
     ]
    }
   ],
   "source": [
    "empty_list = []\n",
    "int_list = [1,2,3,4,5]\n",
    "float_list = [1.0, 2.0, 3.0, 4.0, 5.0]\n",
    "string_list = [\"Many words\", \"impoverished meaning\"]\n",
    "mixed_list = [1, 2.0, \"Mix it up\"]\n",
    "\n",
    "print(empty_list, int_list, float_list, string_list, mixed_list, sep = \"\\n\")"
   ]
  },
  {
   "cell_type": "markdown",
   "id": "2c783f91",
   "metadata": {},
   "source": [
    "Put elements into brackets to create a list"
   ]
  },
  {
   "cell_type": "markdown",
   "id": "c6bd1d6c",
   "metadata": {},
   "source": [
    "#### Concatenation"
   ]
  },
  {
   "cell_type": "code",
   "execution_count": 2,
   "id": "78ae9eb3",
   "metadata": {},
   "outputs": [
    {
     "name": "stdout",
     "output_type": "stream",
     "text": [
      "list 1: [5, 4, 9, 10, 3, 5]\n",
      "list 2: [6, 3, 2, 1, 5, 3]\n",
      "[5, 4, 9, 10, 3, 5, 6, 3, 2, 1, 5, 3]\n"
     ]
    }
   ],
   "source": [
    "list1 = [5,4,9,10,3,5]\n",
    "list2 = [6,3,2,1,5,3]\n",
    "join_lists = list1+list2\n",
    "\n",
    "print(\"list 1:\", list1)\n",
    "print(\"list 2:\", list2)\n",
    "print(join_lists)"
   ]
  },
  {
   "cell_type": "markdown",
   "id": "0b6a18f2",
   "metadata": {},
   "source": [
    "Adding lists simply creates one list with all entries, it does NOT add the elements of equal sized lists"
   ]
  },
  {
   "cell_type": "markdown",
   "id": "c3174eca",
   "metadata": {},
   "source": [
    "## For Loops & Range()"
   ]
  },
  {
   "cell_type": "markdown",
   "id": "8b44261d",
   "metadata": {},
   "source": [
    "#### For Loop"
   ]
  },
  {
   "cell_type": "code",
   "execution_count": 6,
   "id": "20674c8d",
   "metadata": {},
   "outputs": [
    {
     "ename": "SyntaxError",
     "evalue": "invalid syntax (<ipython-input-6-6c57701e4f46>, line 2)",
     "output_type": "error",
     "traceback": [
      "\u001b[1;36m  File \u001b[1;32m\"<ipython-input-6-6c57701e4f46>\"\u001b[1;36m, line \u001b[1;32m2\u001b[0m\n\u001b[1;33m    <execute script>\u001b[0m\n\u001b[1;37m    ^\u001b[0m\n\u001b[1;31mSyntaxError\u001b[0m\u001b[1;31m:\u001b[0m invalid syntax\n"
     ]
    }
   ],
   "source": [
    "for i in range(j, k, l):\n",
    "    <execute script>"
   ]
  },
  {
   "cell_type": "markdown",
   "id": "c4438957",
   "metadata": {},
   "source": [
    "Loops through i (start, end, interval)\n",
    "    - if you do not identify a start, assume 0\n",
    "    - if you do not identify an interval, assume 1"
   ]
  },
  {
   "cell_type": "markdown",
   "id": "142be574",
   "metadata": {},
   "source": [
    "#### Range"
   ]
  },
  {
   "cell_type": "code",
   "execution_count": 7,
   "id": "f4259124",
   "metadata": {},
   "outputs": [
    {
     "name": "stdout",
     "output_type": "stream",
     "text": [
      "[0, 1, 2, 3, 4, 5, 6, 7, 8]\n",
      "[-9, -8, -7, -6, -5, -4, -3, -2, -1, 0, 1, 2, 3, 4, 5, 6, 7, 8]\n",
      "[-9, -6, -3, 0, 3, 6]\n"
     ]
    }
   ],
   "source": [
    "list1 = list(range(9))\n",
    "list2 = list(range(-9,9))\n",
    "list3 = list(range(-9,9,3))\n",
    "\n",
    "print(list1, list2, list3, sep = \"\\n\")"
   ]
  },
  {
   "cell_type": "markdown",
   "id": "8cf393c7",
   "metadata": {},
   "source": [
    "Range is not inclusive, thus - below I will attempt to create an inclusive list so when you use range(9) you get the following elements: 0,1,2,3,4,5,6,7,8,9"
   ]
  },
  {
   "cell_type": "markdown",
   "id": "4ed6685b",
   "metadata": {},
   "source": [
    "##### Exclusive range, will try 2 things below in attempts to create an inclusive list"
   ]
  },
  {
   "cell_type": "code",
   "execution_count": 8,
   "id": "90959ac1",
   "metadata": {},
   "outputs": [
    {
     "ename": "TypeError",
     "evalue": "'type' object is not subscriptable",
     "output_type": "error",
     "traceback": [
      "\u001b[1;31m---------------------------------------------------------------------------\u001b[0m",
      "\u001b[1;31mTypeError\u001b[0m                                 Traceback (most recent call last)",
      "\u001b[1;32m<ipython-input-8-5837115134c8>\u001b[0m in \u001b[0;36m<module>\u001b[1;34m\u001b[0m\n\u001b[1;32m----> 1\u001b[1;33m \u001b[0mlist1\u001b[0m \u001b[1;33m=\u001b[0m \u001b[0mlist\u001b[0m\u001b[1;33m[\u001b[0m\u001b[0mrange\u001b[0m\u001b[1;33m(\u001b[0m\u001b[1;36m9\u001b[0m\u001b[1;33m)\u001b[0m\u001b[1;33m]\u001b[0m\u001b[1;33m\u001b[0m\u001b[1;33m\u001b[0m\u001b[0m\n\u001b[0m\u001b[0;32m      2\u001b[0m \u001b[0mlist2\u001b[0m \u001b[1;33m=\u001b[0m \u001b[0mlist\u001b[0m\u001b[1;33m[\u001b[0m\u001b[0mrange\u001b[0m\u001b[1;33m(\u001b[0m\u001b[1;33m-\u001b[0m\u001b[1;36m9\u001b[0m\u001b[1;33m,\u001b[0m\u001b[1;36m9\u001b[0m\u001b[1;33m)\u001b[0m\u001b[1;33m]\u001b[0m\u001b[1;33m\u001b[0m\u001b[1;33m\u001b[0m\u001b[0m\n\u001b[0;32m      3\u001b[0m \u001b[0mlist3\u001b[0m \u001b[1;33m=\u001b[0m \u001b[0mlist\u001b[0m\u001b[1;33m[\u001b[0m\u001b[0mrange\u001b[0m\u001b[1;33m(\u001b[0m\u001b[1;33m-\u001b[0m\u001b[1;36m9\u001b[0m\u001b[1;33m,\u001b[0m\u001b[1;36m9\u001b[0m\u001b[1;33m,\u001b[0m\u001b[1;36m3\u001b[0m\u001b[1;33m)\u001b[0m\u001b[1;33m]\u001b[0m\u001b[1;33m\u001b[0m\u001b[1;33m\u001b[0m\u001b[0m\n\u001b[0;32m      4\u001b[0m \u001b[1;33m\u001b[0m\u001b[0m\n\u001b[0;32m      5\u001b[0m \u001b[0mprint\u001b[0m\u001b[1;33m(\u001b[0m\u001b[0mlist1\u001b[0m\u001b[1;33m,\u001b[0m \u001b[0mlist2\u001b[0m\u001b[1;33m,\u001b[0m \u001b[0mlist3\u001b[0m\u001b[1;33m,\u001b[0m \u001b[0msep\u001b[0m \u001b[1;33m=\u001b[0m \u001b[1;34m\"\\n\"\u001b[0m\u001b[1;33m)\u001b[0m\u001b[1;33m\u001b[0m\u001b[1;33m\u001b[0m\u001b[0m\n",
      "\u001b[1;31mTypeError\u001b[0m: 'type' object is not subscriptable"
     ]
    }
   ],
   "source": [
    "list1 = list[range(9)]\n",
    "list2 = list[range(-9,9)]\n",
    "list3 = list[range(-9,9,3)]\n",
    "\n",
    "print(list1, list2, list3, sep = \"\\n\")"
   ]
  },
  {
   "cell_type": "markdown",
   "id": "887ab7cd",
   "metadata": {},
   "source": [
    "I intentionally ran this error to see if there was a way to create an inclusive range: because as viewed above, range (9) does not include the number 9"
   ]
  },
  {
   "cell_type": "code",
   "execution_count": 10,
   "id": "4ad72c13",
   "metadata": {},
   "outputs": [
    {
     "ename": "TypeError",
     "evalue": "'type' object is not subscriptable",
     "output_type": "error",
     "traceback": [
      "\u001b[1;31m---------------------------------------------------------------------------\u001b[0m",
      "\u001b[1;31mTypeError\u001b[0m                                 Traceback (most recent call last)",
      "\u001b[1;32m<ipython-input-10-44bd4f2504c8>\u001b[0m in \u001b[0;36m<module>\u001b[1;34m\u001b[0m\n\u001b[1;32m----> 1\u001b[1;33m \u001b[0mlist1\u001b[0m \u001b[1;33m=\u001b[0m \u001b[0mlist\u001b[0m\u001b[1;33m(\u001b[0m\u001b[0mrange\u001b[0m\u001b[1;33m[\u001b[0m\u001b[1;36m9\u001b[0m\u001b[1;33m]\u001b[0m\u001b[1;33m)\u001b[0m\u001b[1;33m\u001b[0m\u001b[1;33m\u001b[0m\u001b[0m\n\u001b[0m\u001b[0;32m      2\u001b[0m \u001b[0mlist2\u001b[0m \u001b[1;33m=\u001b[0m \u001b[0mlist\u001b[0m\u001b[1;33m(\u001b[0m\u001b[0mrange\u001b[0m\u001b[1;33m[\u001b[0m\u001b[1;33m-\u001b[0m\u001b[1;36m9\u001b[0m\u001b[1;33m,\u001b[0m\u001b[1;36m9\u001b[0m\u001b[1;33m]\u001b[0m\u001b[1;33m)\u001b[0m\u001b[1;33m\u001b[0m\u001b[1;33m\u001b[0m\u001b[0m\n\u001b[0;32m      3\u001b[0m \u001b[0mlist3\u001b[0m \u001b[1;33m=\u001b[0m \u001b[0mlist\u001b[0m\u001b[1;33m(\u001b[0m\u001b[0mrange\u001b[0m\u001b[1;33m[\u001b[0m\u001b[1;33m-\u001b[0m\u001b[1;36m9\u001b[0m\u001b[1;33m,\u001b[0m\u001b[1;36m9\u001b[0m\u001b[1;33m,\u001b[0m\u001b[1;36m3\u001b[0m\u001b[1;33m]\u001b[0m\u001b[1;33m)\u001b[0m\u001b[1;33m\u001b[0m\u001b[1;33m\u001b[0m\u001b[0m\n\u001b[0;32m      4\u001b[0m \u001b[1;33m\u001b[0m\u001b[0m\n\u001b[0;32m      5\u001b[0m \u001b[0mprint\u001b[0m\u001b[1;33m(\u001b[0m\u001b[0mlist1\u001b[0m\u001b[1;33m,\u001b[0m \u001b[0mlist2\u001b[0m\u001b[1;33m,\u001b[0m \u001b[0mlist3\u001b[0m\u001b[1;33m,\u001b[0m \u001b[0msep\u001b[0m \u001b[1;33m=\u001b[0m \u001b[1;34m\"\\n\"\u001b[0m\u001b[1;33m)\u001b[0m\u001b[1;33m\u001b[0m\u001b[1;33m\u001b[0m\u001b[0m\n",
      "\u001b[1;31mTypeError\u001b[0m: 'type' object is not subscriptable"
     ]
    }
   ],
   "source": [
    "list1 = list(range[9])\n",
    "list2 = list(range[-9,9])\n",
    "list3 = list(range[-9,9,3])\n",
    "\n",
    "print(list1, list2, list3, sep = \"\\n\")"
   ]
  },
  {
   "cell_type": "markdown",
   "id": "95550e05",
   "metadata": {},
   "source": [
    "NONE OF MY ATTEMPTS TO CREATE AN INCLUSIVE LIST WERE SUCCESSFUL"
   ]
  },
  {
   "cell_type": "markdown",
   "id": "dcc411ca",
   "metadata": {},
   "source": [
    "I will have to remember that ranges are exclusive"
   ]
  },
  {
   "cell_type": "markdown",
   "id": "179e640d",
   "metadata": {},
   "source": [
    "#### For Loop & Range"
   ]
  },
  {
   "cell_type": "code",
   "execution_count": 11,
   "id": "e350ac25",
   "metadata": {},
   "outputs": [
    {
     "name": "stdout",
     "output_type": "stream",
     "text": [
      "0\n",
      "1\n",
      "2\n",
      "3\n",
      "4\n",
      "5\n",
      "6\n",
      "7\n",
      "8\n",
      "9\n"
     ]
    }
   ],
   "source": [
    "for i in range(10):\n",
    "    print(i)"
   ]
  },
  {
   "cell_type": "code",
   "execution_count": 25,
   "id": "73d6ac7f",
   "metadata": {},
   "outputs": [
    {
     "name": "stdout",
     "output_type": "stream",
     "text": [
      "[0, 0.25, 0.5, 0.75, 1]\n"
     ]
    }
   ],
   "source": [
    "A = [0, 1/4, 1/2, 3/4, 1]\n",
    "print(A)"
   ]
  },
  {
   "cell_type": "code",
   "execution_count": 29,
   "id": "5ba68fc6",
   "metadata": {},
   "outputs": [
    {
     "ename": "SyntaxError",
     "evalue": "invalid syntax (<ipython-input-29-2233a9ac6f2b>, line 2)",
     "output_type": "error",
     "traceback": [
      "\u001b[1;36m  File \u001b[1;32m\"<ipython-input-29-2233a9ac6f2b>\"\u001b[1;36m, line \u001b[1;32m2\u001b[0m\n\u001b[1;33m    <execute script>\u001b[0m\n\u001b[1;37m    ^\u001b[0m\n\u001b[1;31mSyntaxError\u001b[0m\u001b[1;31m:\u001b[0m invalid syntax\n"
     ]
    }
   ],
   "source": [
    "for i in range(len(A)):\n",
    "    <execute script>"
   ]
  },
  {
   "cell_type": "markdown",
   "id": "14042924",
   "metadata": {},
   "source": [
    "This is meant to call all integers between 0 and 1 less than the length of A. ERROR: I am unsure why in remains green and is not purple in my code, I could not figure out why there was an error."
   ]
  },
  {
   "cell_type": "markdown",
   "id": "733cd54e",
   "metadata": {},
   "source": [
    "#### Copy list elements"
   ]
  },
  {
   "cell_type": "code",
   "execution_count": 28,
   "id": "9a1be272",
   "metadata": {},
   "outputs": [
    {
     "name": "stdout",
     "output_type": "stream",
     "text": [
      "list1 elements: 5 4 9 10 3\n",
      "list2 elements: 6 3 2 1 5\n",
      "list3 elements: [5, 4, 9, 10, 3, 5, 6, 3, 2, 1, 5, 3]\n"
     ]
    }
   ],
   "source": [
    "list1 = [5, 4, 9, 10, 3, 5]\n",
    "list2 = [6, 3, 2, 1, 5, 3]\n",
    "\n",
    "print(\"list1 elements:\", list1[0], list1[1], list1[2], list1[3], list1[4])\n",
    "print(\"list2 elements:\", list2[0], list2[1], list2[2], list2[3], list2[4])\n",
    "\n",
    "list3 = []\n",
    "j = len(list1)\n",
    "for i in range(j):\n",
    "    list3.append(list1[i])\n",
    "\n",
    "k = len(list2)\n",
    "for i in range(k):\n",
    "    list3.append(list2[i])\n",
    "\n",
    "print(\"list3 elements:\", list3)"
   ]
  },
  {
   "cell_type": "markdown",
   "id": "c6e7e63d",
   "metadata": {},
   "source": [
    "## Create a New List with Values from Other Lists, New Concepts: List Methods, If Statements, Else Statements, Operators"
   ]
  },
  {
   "cell_type": "markdown",
   "id": "293f1468",
   "metadata": {},
   "source": [
    "#### Add List Elements"
   ]
  },
  {
   "cell_type": "code",
   "execution_count": 30,
   "id": "9c85e9a9",
   "metadata": {},
   "outputs": [
    {
     "name": "stdout",
     "output_type": "stream",
     "text": [
      "list1 elements: 5 4 9 10 3\n",
      "list2 elements: 6 3 2 1 5\n",
      "list3: [11, 7, 11, 11, 8, 8]\n"
     ]
    }
   ],
   "source": [
    "list1 = [5, 4, 9, 10, 3, 5]\n",
    "list2 = [6, 3, 2, 1, 5, 3]\n",
    "\n",
    "print(\"list1 elements:\", list1[0], list1[1], list1[2], list1[3], list1[4])\n",
    "print(\"list2 elements:\", list2[0], list2[1], list2[2], list2[3], list2[4])\n",
    "\n",
    "list3 = []\n",
    "j = len(list1)\n",
    "for i in range(j):\n",
    "    list3.append(list1[i] + list2[i])\n",
    "    \n",
    "print(\"list3:\", list3)"
   ]
  },
  {
   "cell_type": "code",
   "execution_count": 31,
   "id": "a0d1317e",
   "metadata": {},
   "outputs": [
    {
     "name": "stdout",
     "output_type": "stream",
     "text": [
      "list1 elements: 5 4 9 10 3\n",
      "list2 elements: 6 3 2 1 5\n",
      "list3: [8, 8, 11, 11, 7, 11]\n"
     ]
    }
   ],
   "source": [
    "list1 = [5, 4, 9, 10, 3, 5]\n",
    "list2 = [6, 3, 2, 1, 5, 3]\n",
    "\n",
    "print(\"list1 elements:\", list1[0], list1[1], list1[2], list1[3], list1[4])\n",
    "print(\"list2 elements:\", list2[0], list2[1], list2[2], list2[3], list2[4])\n",
    "\n",
    "list3 = []\n",
    "j = len(list1)\n",
    "for i in range(j):\n",
    "    list3.insert(0,list1[i] + list2[i])\n",
    "    \n",
    "print(\"list3:\", list3)"
   ]
  },
  {
   "cell_type": "markdown",
   "id": "05ffd9ca",
   "metadata": {},
   "source": [
    "#### If Statements"
   ]
  },
  {
   "cell_type": "code",
   "execution_count": 1,
   "id": "6144ab62",
   "metadata": {},
   "outputs": [
    {
     "name": "stdout",
     "output_type": "stream",
     "text": [
      "execute script\n"
     ]
    }
   ],
   "source": [
    "if True:\n",
    "    print(\"execute script\")"
   ]
  },
  {
   "cell_type": "code",
   "execution_count": 2,
   "id": "9a1e4d3c",
   "metadata": {},
   "outputs": [
    {
     "name": "stdout",
     "output_type": "stream",
     "text": [
      "execute script\n"
     ]
    }
   ],
   "source": [
    "if True:\n",
    "    print(\"execute script\")\n",
    "else:\n",
    "    pass"
   ]
  },
  {
   "cell_type": "code",
   "execution_count": 6,
   "id": "d5f3bbcd",
   "metadata": {},
   "outputs": [],
   "source": [
    "if False:\n",
    "    print(\"execute script\")\n",
    "else:\n",
    "    pass"
   ]
  },
  {
   "cell_type": "markdown",
   "id": "097009d3",
   "metadata": {},
   "source": [
    "#### Add List & If"
   ]
  },
  {
   "cell_type": "code",
   "execution_count": 7,
   "id": "e12871d6",
   "metadata": {},
   "outputs": [
    {
     "name": "stdout",
     "output_type": "stream",
     "text": [
      "list1 elements: 5 4 9 10 3\n",
      "list2 elements: 6 3 2 1 5\n",
      "list3: [11, 7, 11, 11, 8, 8]\n"
     ]
    }
   ],
   "source": [
    "list1 = [5, 4, 9, 10, 3, 5]\n",
    "list2 = [6, 3, 2, 1, 5, 3]\n",
    "print(\"list1 elements:\", list1[0], list1[1], list1[2], list1[3], list1[4])\n",
    "print(\"list2 elements:\", list2[0], list2[1], list2[2], list2[3], list2[4])\n",
    "\n",
    "list3 = []\n",
    "j = len(list1)\n",
    "if j == len(list2):\n",
    "    for i in range(0, len(list2)):\n",
    "        list3.insert(i,list1[i] + list2[i])\n",
    "print(\"list3:\", list3)"
   ]
  },
  {
   "cell_type": "code",
   "execution_count": 8,
   "id": "f981ec2c",
   "metadata": {},
   "outputs": [
    {
     "name": "stdout",
     "output_type": "stream",
     "text": [
      "list1 elements: 5 4 9 10 3\n",
      "list2 elements: 6 3 2 1 5\n",
      "Lists are not the same length, cannot perform element-wise operations.\n",
      "list3: []\n"
     ]
    }
   ],
   "source": [
    "list1 = [5, 4, 9, 10, 3, 5]\n",
    "list2 = [6, 3, 2, 1, 5]\n",
    "print(\"list1 elements:\", list1[0], list1[1], list1[2], list1[3], list1[4])\n",
    "print(\"list2 elements:\", list2[0], list2[1], list2[2], list2[3], list2[4])\n",
    "\n",
    "list3 = []\n",
    "j = len(list1)\n",
    "if j == len(list2):\n",
    "    for i in range(0, len(list2)):\n",
    "        list3.insert(i,list1[i] + list2[i])\n",
    "else:\n",
    "    print(\"Lists are not the same length, cannot perform element-wise operations.\")\n",
    "print(\"list3:\", list3)"
   ]
  },
  {
   "cell_type": "markdown",
   "id": "aa82b7ed",
   "metadata": {},
   "source": [
    "### Remove List Elements, New Concepts: Del, List Methods"
   ]
  },
  {
   "cell_type": "markdown",
   "id": "f7570766",
   "metadata": {},
   "source": [
    "#### Delete"
   ]
  },
  {
   "cell_type": "code",
   "execution_count": 9,
   "id": "8b31595d",
   "metadata": {},
   "outputs": [
    {
     "name": "stdout",
     "output_type": "stream",
     "text": [
      "lists before deletion: \n",
      "red \t nose\n",
      "blue \t ice\n",
      "orange \t fire\n",
      "black \t cat\n",
      "white \t mouse\n",
      "golden \t dog\n",
      "\n",
      "lists after deletion: \n",
      "blue \t nose\n",
      "orange \t ice\n",
      "black \t fire\n",
      "white \t cat\n",
      "golden \t mouse\n"
     ]
    }
   ],
   "source": [
    "list1 = [\"red\", \"blue\", \"orange\", \"black\", \"white\", \"golden\"]\n",
    "list2 = [\"nose\", \"ice\", \"fire\", \"cat\", \"mouse\", \"dog\"]\n",
    "print(\"lists before deletion: \")\n",
    "for i in range(len(list1)):\n",
    "    print(list1[i],\"\\t\", list2[i])\n",
    "    \n",
    "del list1[0]\n",
    "del list2[5]\n",
    "\n",
    "print()\n",
    "print(\"lists after deletion: \")\n",
    "for i in range(len(list1)):\n",
    "    print(list1[i], \"\\t\",list2[i])"
   ]
  },
  {
   "cell_type": "markdown",
   "id": "68018f38",
   "metadata": {},
   "source": [
    "#### Remove Elements"
   ]
  },
  {
   "cell_type": "code",
   "execution_count": 10,
   "id": "61f6c2f1",
   "metadata": {},
   "outputs": [
    {
     "name": "stdout",
     "output_type": "stream",
     "text": [
      "lists before deletion: \n",
      "red \t nose\n",
      "blue \t ice\n",
      "orange \t fire\n",
      "black \t cat\n",
      "white \t mouse\n",
      "golden \t dog\n",
      "\n",
      "lists after deletion: \n",
      "blue \t nose\n",
      "orange \t ice\n",
      "black \t fire\n",
      "white \t cat\n",
      "golden \t mouse\n"
     ]
    }
   ],
   "source": [
    "list1 = [\"red\", \"blue\", \"orange\", \"black\", \"white\", \"golden\"]\n",
    "list2 = [\"nose\", \"ice\", \"fire\", \"cat\", \"mouse\", \"dog\"]\n",
    "print(\"lists before deletion: \")\n",
    "for i in range(len(list1)):\n",
    "    print(list1[i],\"\\t\", list2[i])\n",
    "    \n",
    "list1.remove(\"red\")\n",
    "list2.remove(\"dog\")\n",
    "\n",
    "print()\n",
    "print(\"lists after deletion: \")\n",
    "for i in range(len(list1)):\n",
    "    print(list1[i], \"\\t\",list2[i])"
   ]
  },
  {
   "cell_type": "markdown",
   "id": "54b91c55",
   "metadata": {},
   "source": [
    ".remove() deletes individual entries per list"
   ]
  },
  {
   "cell_type": "markdown",
   "id": "dcdc8f18",
   "metadata": {},
   "source": [
    "###### Does it delete duplicates?"
   ]
  },
  {
   "cell_type": "code",
   "execution_count": 28,
   "id": "7a9e83c7",
   "metadata": {},
   "outputs": [
    {
     "name": "stdout",
     "output_type": "stream",
     "text": [
      "lists before deletion: \n",
      "red\n",
      "white\n",
      "blue\n",
      "red\n",
      "\n",
      "lists after deletion: \n",
      "white\n",
      "blue\n",
      "red\n"
     ]
    }
   ],
   "source": [
    "list1 = [\"red\", \"white\", \"blue\", \"red\"]\n",
    "print(\"lists before deletion: \")\n",
    "for i in range(len(list1)):\n",
    "    print(list1[i])\n",
    "    \n",
    "list1.remove(\"red\")\n",
    "\n",
    "print()\n",
    "print(\"lists after deletion: \")\n",
    "for i in range(len(list1)):\n",
    "    print(list1[i])"
   ]
  },
  {
   "cell_type": "markdown",
   "id": "660b0ff2",
   "metadata": {},
   "source": [
    ".remove() does not get rid of every entry. It only gets rid of the first entry of the word in ()"
   ]
  },
  {
   "cell_type": "markdown",
   "id": "d7cf9cb3",
   "metadata": {},
   "source": [
    "#### Remove & Save"
   ]
  },
  {
   "cell_type": "code",
   "execution_count": 12,
   "id": "2033ff56",
   "metadata": {},
   "outputs": [
    {
     "name": "stdout",
     "output_type": "stream",
     "text": [
      "lists before deletion: \n",
      "red \t nose\n",
      "blue \t ice\n",
      "orange \t fire\n",
      "black \t cat\n",
      "white \t mouse\n",
      "golden \t dog\n",
      "\n",
      "lists after deletion: \n",
      "blue \t nose\n",
      "orange \t ice\n",
      "black \t fire\n",
      "white \t cat\n",
      "golden \t mouse\n",
      "\n",
      "Res1 \tRes2\n",
      "red \tdog\n"
     ]
    }
   ],
   "source": [
    "list1 = [\"red\", \"blue\", \"orange\", \"black\", \"white\", \"golden\"]\n",
    "list2 = [\"nose\", \"ice\", \"fire\", \"cat\", \"mouse\", \"dog\"]\n",
    "\n",
    "#identify what is printed in for loop\n",
    "print(\"lists before deletion: \")\n",
    "if len(list1) == len(list2):\n",
    "    # use for loop to print lists in parallel\n",
    "    for i in range(len(list1)):\n",
    "        print(list1[i],\"\\t\", list2[i])\n",
    "    \n",
    "# remove list elements and save them as variables '_res\"\n",
    "list1_res = \"red\"\n",
    "list2_res = \"dog\"\n",
    "list1.remove(list1_res)\n",
    "list2.remove(list2_res)\n",
    "\n",
    "print()\n",
    "# print lists again as in lines 8-11\n",
    "print(\"lists after deletion: \")\n",
    "if len(list1) == len(list2):\n",
    "    for i in range(len(list1)):\n",
    "        print(list1[i], \"\\t\",list2[i])\n",
    "     \n",
    "print()\n",
    "print(\"Res1\", \"\\tRes2\")\n",
    "print(list1_res, \"\\t\" + (list2_res))"
   ]
  },
  {
   "cell_type": "markdown",
   "id": "e3938868",
   "metadata": {},
   "source": [
    "#### Remove & Pop"
   ]
  },
  {
   "cell_type": "code",
   "execution_count": 13,
   "id": "906f2353",
   "metadata": {},
   "outputs": [
    {
     "name": "stdout",
     "output_type": "stream",
     "text": [
      "lists before deletion: \n",
      "red \t nose\n",
      "blue \t ice\n",
      "orange \t fire\n",
      "black \t cat\n",
      "white \t mouse\n",
      "golden \t dog\n",
      "\n",
      "lists after deletion: \n",
      "blue \t nose\n",
      "orange \t ice\n",
      "black \t fire\n",
      "white \t cat\n",
      "golden \t mouse\n",
      "\n",
      "Res1 \tRes2\n",
      "red \tdog\n"
     ]
    }
   ],
   "source": [
    "list1 = [\"red\", \"blue\", \"orange\", \"black\", \"white\", \"golden\"]\n",
    "list2 = [\"nose\", \"ice\", \"fire\", \"cat\", \"mouse\", \"dog\"]\n",
    "\n",
    "#identify what is printed in for loop\n",
    "print(\"lists before deletion: \")\n",
    "# use for loop to print lists in parallel\n",
    "for i in range(len(list1)):\n",
    "    print(list1[i],\"\\t\", list2[i])\n",
    "    \n",
    "# remove list elements and save them as variables '_res\"\n",
    "list1_res = list1.pop(0)\n",
    "list2_res = list2.pop(5)\n",
    "\n",
    "print()\n",
    "# print lists again as in lines 8-11\n",
    "print(\"lists after deletion: \")\n",
    "for i in range(len(list1)):\n",
    "    print(list1[i], \"\\t\",list2[i])\n",
    "     \n",
    "print()\n",
    "print(\"Res1\", \"\\tRes2\")\n",
    "print(list1_res, \"\\t\" + (list2_res))"
   ]
  },
  {
   "cell_type": "markdown",
   "id": "4f4cddc8",
   "metadata": {},
   "source": [
    "## For Loops Cont."
   ]
  },
  {
   "cell_type": "markdown",
   "id": "bd69a320",
   "metadata": {},
   "source": [
    "#### Add Elements"
   ]
  },
  {
   "cell_type": "code",
   "execution_count": 14,
   "id": "5c3afe4b",
   "metadata": {},
   "outputs": [
    {
     "name": "stdout",
     "output_type": "stream",
     "text": [
      "list1 elements: 5 4 9 10 3\n",
      "list2 elements: 6 3 2 1 5\n",
      "list3: [11, 11, 8]\n"
     ]
    }
   ],
   "source": [
    "list1 = [5, 4, 9, 10, 3, 5]\n",
    "list2 = [6, 3, 2, 1, 5, 3]\n",
    "print(\"list1 elements:\", list1[0], list1[1], list1[2], list1[3], list1[4])\n",
    "print(\"list2 elements:\", list2[0], list2[1], list2[2], list2[3], list2[4])\n",
    "\n",
    "list3 = []\n",
    "j = len(list1)\n",
    "if j == len(list2):\n",
    "    for i in range(0, j, 2):\n",
    "        list3.append(list1[i] + list2[i])\n",
    "else:\n",
    "    print(\"Lists are not the same length, cannot perform element-wise operations.\")\n",
    "print(\"list3:\", list3)"
   ]
  },
  {
   "cell_type": "markdown",
   "id": "6600bab9",
   "metadata": {},
   "source": [
    "#### For Loops"
   ]
  },
  {
   "cell_type": "code",
   "execution_count": 15,
   "id": "1d313a11",
   "metadata": {},
   "outputs": [
    {
     "name": "stdout",
     "output_type": "stream",
     "text": [
      "A\n",
      "few\n",
      "words\n",
      "to\n",
      "print\n"
     ]
    }
   ],
   "source": [
    "obj = [\"A\", \"few\", \"words\", \"to\", \"print\"]\n",
    "for x in obj:\n",
    "    print(x)"
   ]
  },
  {
   "cell_type": "markdown",
   "id": "15a1ded9",
   "metadata": {},
   "source": [
    "###### Without Indexer"
   ]
  },
  {
   "cell_type": "code",
   "execution_count": 16,
   "id": "0180c4a8",
   "metadata": {},
   "outputs": [
    {
     "name": "stdout",
     "output_type": "stream",
     "text": [
      "list1\t list2\n",
      "red \t red\n",
      "blue \t blue\n",
      "orange \t orange\n",
      "black \t black\n",
      "white \t white\n",
      "golden \t golden\n"
     ]
    }
   ],
   "source": [
    "list1 = [\"red\", \"blue\", \"orange\", \"black\", \"white\", \"golden\"]\n",
    "list2 = []\n",
    "for x in list1:\n",
    "    list2.append(x)\n",
    "\n",
    "print(\"list1\\t\", \"list2\")\n",
    "k = len(list1)\n",
    "j = len(list2)\n",
    "\n",
    "if len(list1) == len(list2):\n",
    "    for i in range(0, len(list1)):\n",
    "        print(list1[i], \"\\t\", list2[i])"
   ]
  },
  {
   "cell_type": "markdown",
   "id": "c0e014a5",
   "metadata": {},
   "source": [
    "#### With Indexer"
   ]
  },
  {
   "cell_type": "markdown",
   "id": "4e36f584",
   "metadata": {},
   "source": [
    "## Sort Lists, Errors, and Exceptions, New Concepts: Sorted(), Pass Errors"
   ]
  },
  {
   "cell_type": "markdown",
   "id": "b8ac38db",
   "metadata": {},
   "source": [
    "#### Sort"
   ]
  },
  {
   "cell_type": "code",
   "execution_count": 17,
   "id": "ba78ea89",
   "metadata": {},
   "outputs": [
    {
     "name": "stdout",
     "output_type": "stream",
     "text": [
      "list1: [5, 4, 9, 10, 3, 5]\n",
      "list2: ['red', 'blue', 'orange', 'black', 'white', 'golden']\n",
      "sortedList1: [3, 4, 5, 5, 9, 10]\n",
      "sortedList2: ['black', 'blue', 'golden', 'orange', 'red', 'white']\n"
     ]
    }
   ],
   "source": [
    "list1 = [5, 4, 9, 10, 3, 5]\n",
    "list2 = [\"red\", \"blue\", \"orange\", \"black\", \"white\", \"golden\"]\n",
    "\n",
    "print(\"list1:\", list1)\n",
    "print(\"list2:\", list2)\n",
    "\n",
    "sorted_list1 = sorted(list1)\n",
    "sorted_list2 = sorted(list2)\n",
    "\n",
    "print(\"sortedList1:\", sorted_list1)\n",
    "print(\"sortedList2:\", sorted_list2)"
   ]
  },
  {
   "cell_type": "markdown",
   "id": "d2d2d945",
   "metadata": {},
   "source": [
    "sorted(): numerical or alphabetical"
   ]
  },
  {
   "cell_type": "markdown",
   "id": "9f2f1cee",
   "metadata": {},
   "source": [
    "#### Sort Error"
   ]
  },
  {
   "cell_type": "code",
   "execution_count": 18,
   "id": "09a18f2e",
   "metadata": {},
   "outputs": [
    {
     "name": "stdout",
     "output_type": "stream",
     "text": [
      "list1: [5, 4, 9, 10, 3, 5]\n",
      "list2: ['red', 'blue', 'orange', 'black', 'white', 'golden']\n",
      "list3: [5, 4, 9, 10, 3, 5, 'red', 'blue', 'orange', 'black', 'white', 'golden']\n",
      "sortedList1: [3, 4, 5, 5, 9, 10]\n",
      "sortedList2: ['black', 'blue', 'golden', 'orange', 'red', 'white']\n"
     ]
    },
    {
     "ename": "TypeError",
     "evalue": "'<' not supported between instances of 'str' and 'int'",
     "output_type": "error",
     "traceback": [
      "\u001b[1;31m---------------------------------------------------------------------------\u001b[0m",
      "\u001b[1;31mTypeError\u001b[0m                                 Traceback (most recent call last)",
      "\u001b[1;32m<ipython-input-18-efaefd686d25>\u001b[0m in \u001b[0;36m<module>\u001b[1;34m\u001b[0m\n\u001b[0;32m     13\u001b[0m \u001b[0mprint\u001b[0m\u001b[1;33m(\u001b[0m\u001b[1;34m\"sortedList2:\"\u001b[0m\u001b[1;33m,\u001b[0m \u001b[0msorted_list2\u001b[0m\u001b[1;33m)\u001b[0m\u001b[1;33m\u001b[0m\u001b[1;33m\u001b[0m\u001b[0m\n\u001b[0;32m     14\u001b[0m \u001b[1;33m\u001b[0m\u001b[0m\n\u001b[1;32m---> 15\u001b[1;33m \u001b[0msorted_list3\u001b[0m \u001b[1;33m=\u001b[0m \u001b[0msorted\u001b[0m\u001b[1;33m(\u001b[0m\u001b[0mlist3\u001b[0m\u001b[1;33m)\u001b[0m\u001b[1;33m\u001b[0m\u001b[1;33m\u001b[0m\u001b[0m\n\u001b[0m\u001b[0;32m     16\u001b[0m \u001b[0mprint\u001b[0m\u001b[1;33m(\u001b[0m\u001b[1;34m\"sortedList3:\"\u001b[0m\u001b[1;33m,\u001b[0m \u001b[0msorted_list3\u001b[0m\u001b[1;33m)\u001b[0m\u001b[1;33m\u001b[0m\u001b[1;33m\u001b[0m\u001b[0m\n\u001b[0;32m     17\u001b[0m \u001b[0mprint\u001b[0m\u001b[1;33m(\u001b[0m\u001b[1;34m\"Execution complete!\"\u001b[0m\u001b[1;33m)\u001b[0m\u001b[1;33m\u001b[0m\u001b[1;33m\u001b[0m\u001b[0m\n",
      "\u001b[1;31mTypeError\u001b[0m: '<' not supported between instances of 'str' and 'int'"
     ]
    }
   ],
   "source": [
    "list1 = [5, 4, 9, 10, 3, 5]\n",
    "list2 = [\"red\", \"blue\", \"orange\", \"black\", \"white\", \"golden\"]\n",
    "list3 = list1 + list2\n",
    "\n",
    "print(\"list1:\", list1)\n",
    "print(\"list2:\", list2)\n",
    "print(\"list3:\", list3)\n",
    "\n",
    "sorted_list1 = sorted(list1)\n",
    "sorted_list2 = sorted(list2)\n",
    "\n",
    "print(\"sortedList1:\", sorted_list1)\n",
    "print(\"sortedList2:\", sorted_list2)\n",
    "\n",
    "sorted_list3 = sorted(list3)\n",
    "print(\"sortedList3:\", sorted_list3)\n",
    "print(\"Execution complete!\")"
   ]
  },
  {
   "cell_type": "markdown",
   "id": "1158ea68",
   "metadata": {},
   "source": [
    "## Slicing Lists"
   ]
  },
  {
   "cell_type": "markdown",
   "id": "1b41a98e",
   "metadata": {},
   "source": [
    "#### Full"
   ]
  },
  {
   "cell_type": "code",
   "execution_count": 19,
   "id": "6a870c15",
   "metadata": {},
   "outputs": [
    {
     "name": "stdout",
     "output_type": "stream",
     "text": [
      "[3, 1, 5, 6, 1]\n"
     ]
    }
   ],
   "source": [
    "some_list = [3, 1, 5, 6, 1]\n",
    "print(some_list[:])"
   ]
  },
  {
   "cell_type": "code",
   "execution_count": 20,
   "id": "f2c88d9f",
   "metadata": {},
   "outputs": [
    {
     "name": "stdout",
     "output_type": "stream",
     "text": [
      "minimum: 0\n",
      "maximum: 5\n",
      "Full list using slice [3, 1, 5, 6, 1]\n",
      "Full list without slice [3, 1, 5, 6, 1]\n"
     ]
    }
   ],
   "source": [
    "some_list = [3, 1, 5, 6, 1]\n",
    "min_index = 0\n",
    "max_index = len(some_list)\n",
    "print(\"minimum:\", min_index)\n",
    "print(\"maximum:\", max_index)\n",
    "print(\"Full list using slice\", some_list[min_index:max_index])\n",
    "print(\"Full list without slice\", some_list)"
   ]
  },
  {
   "cell_type": "markdown",
   "id": "bdbf9684",
   "metadata": {},
   "source": [
    "#### Partial"
   ]
  },
  {
   "cell_type": "code",
   "execution_count": 21,
   "id": "2cd68f82",
   "metadata": {},
   "outputs": [
    {
     "name": "stdout",
     "output_type": "stream",
     "text": [
      "Full List: [1, 2, 3, 4, 5, 6, 7, 8, 9]\n",
      "Partial List: [4, 5, 6, 7]\n",
      "full_list[7]: 8\n"
     ]
    }
   ],
   "source": [
    "min_index = 3\n",
    "max_index = 7\n",
    "full_list = [1, 2, 3, 4, 5, 6, 7, 8, 9]\n",
    "partial_list = full_list[min_index:max_index]\n",
    "print(\"Full List:\", full_list)\n",
    "print(\"Partial List:\", partial_list)\n",
    "print(\"full_list[7]:\", full_list[7])"
   ]
  },
  {
   "cell_type": "markdown",
   "id": "19e6a23d",
   "metadata": {},
   "source": [
    "## Nested For Loops"
   ]
  },
  {
   "cell_type": "code",
   "execution_count": 22,
   "id": "746a1451",
   "metadata": {},
   "outputs": [
    {
     "name": "stdout",
     "output_type": "stream",
     "text": [
      "i j\n",
      "0 0\n",
      "0 1\n",
      "0 2\n",
      "0 3\n",
      "0 4\n",
      "1 0\n",
      "1 1\n",
      "1 2\n",
      "1 3\n",
      "1 4\n",
      "2 0\n",
      "2 1\n",
      "2 2\n",
      "2 3\n",
      "2 4\n",
      "3 0\n",
      "3 1\n",
      "3 2\n",
      "3 3\n",
      "3 4\n",
      "4 0\n",
      "4 1\n",
      "4 2\n",
      "4 3\n",
      "4 4\n"
     ]
    }
   ],
   "source": [
    "print(\"i\", \"j\")\n",
    "for i in range(5):\n",
    "    for j in range(5):\n",
    "        print(i, j)"
   ]
  },
  {
   "cell_type": "code",
   "execution_count": 23,
   "id": "578dc982",
   "metadata": {},
   "outputs": [
    {
     "name": "stdout",
     "output_type": "stream",
     "text": [
      "i j i+j\n",
      "0 0 0\n",
      "0 1 1\n",
      "0 2 2\n",
      "0 3 3\n",
      "0 4 4\n",
      "1 0 1\n",
      "1 1 2\n",
      "1 2 3\n",
      "1 3 4\n",
      "1 4 5\n",
      "2 0 2\n",
      "2 1 3\n",
      "2 2 4\n",
      "2 3 5\n",
      "2 4 6\n",
      "3 0 3\n",
      "3 1 4\n",
      "3 2 5\n",
      "3 3 6\n",
      "3 4 7\n",
      "4 0 4\n",
      "4 1 5\n",
      "4 2 6\n",
      "4 3 7\n",
      "4 4 8\n"
     ]
    }
   ],
   "source": [
    "print(\"i\", \"j\", \"i+j\")\n",
    "for i in range(5):\n",
    "    for j in range(5):\n",
    "        val = i + j\n",
    "        print(i, j, val)"
   ]
  },
  {
   "cell_type": "markdown",
   "id": "28febd78",
   "metadata": {},
   "source": [
    "## Lists, Lists, & More Lists"
   ]
  },
  {
   "cell_type": "markdown",
   "id": "294e8632",
   "metadata": {},
   "source": [
    "#### Min & Max"
   ]
  },
  {
   "cell_type": "markdown",
   "id": "4259f75a",
   "metadata": {},
   "source": [
    "###### Function"
   ]
  },
  {
   "cell_type": "code",
   "execution_count": 24,
   "id": "70b52f7d",
   "metadata": {},
   "outputs": [
    {
     "name": "stdout",
     "output_type": "stream",
     "text": [
      "maximum: 50 minimum: 20\n"
     ]
    }
   ],
   "source": [
    "list1 = [20, 30, 40, 50]\n",
    "max_list_value = max(list1)\n",
    "min_list_value = min(list1)\n",
    "print(\"maximum:\", max_list_value, \"minimum:\", min_list_value)"
   ]
  },
  {
   "cell_type": "markdown",
   "id": "8b5f88e3",
   "metadata": {},
   "source": [
    "###### By Hand"
   ]
  },
  {
   "cell_type": "code",
   "execution_count": 29,
   "id": "8d18b1e4",
   "metadata": {},
   "outputs": [
    {
     "name": "stdout",
     "output_type": "stream",
     "text": [
      "maximum: 50 minimum: 20\n"
     ]
    }
   ],
   "source": [
    "list1 = [20, 30, 40, 50]\n",
    "\n",
    "min_list_val = float(\"inf\")\n",
    "\n",
    "max_list_val = float(\"-inf\")\n",
    "\n",
    "for x in list1:\n",
    "    if x < min_list_val:\n",
    "        min_list_val = x\n",
    "    if x > max_list_val:\n",
    "        max_list_val = x\n",
    "\n",
    "print(\"maximum:\", max_list_val, \"minimum:\", min_list_val)"
   ]
  },
  {
   "cell_type": "markdown",
   "id": "d32e5c9a",
   "metadata": {},
   "source": [
    "#### From Generator"
   ]
  },
  {
   "cell_type": "code",
   "execution_count": 27,
   "id": "1723a19c",
   "metadata": {},
   "outputs": [
    {
     "name": "stdout",
     "output_type": "stream",
     "text": [
      "<generator object <genexpr> at 0x00000271FD9D9120>\n",
      "[0, 1, 2, 3, 4, 5, 6, 7, 8, 9, 10, 11, 12, 13, 14, 15, 16, 17, 18, 19]\n",
      "[0, 2, 4, 6, 8, 10, 12, 14, 16, 18, 20, 22, 24, 26, 28, 30, 32, 34, 36, 38]\n"
     ]
    }
   ],
   "source": [
    "generator = (i for i in range(20))\n",
    "print(generator)\n",
    "\n",
    "list1 = list(generator)\n",
    "print(list1)\n",
    "\n",
    "list2 = [2 * i for i in range(20)]\n",
    "print(list2)"
   ]
  },
  {
   "cell_type": "markdown",
   "id": "1f9d699e",
   "metadata": {},
   "source": [
    "## EXCERCISES"
   ]
  },
  {
   "cell_type": "markdown",
   "id": "9fb98b6e",
   "metadata": {},
   "source": [
    "### 1."
   ]
  },
  {
   "cell_type": "code",
   "execution_count": 18,
   "id": "c776de9d",
   "metadata": {},
   "outputs": [
    {
     "name": "stdout",
     "output_type": "stream",
     "text": [
      "[3, 6, 9, 12, 15, 18, 21, 24, 27, 30, 33, 36, 39, 42, 45, 48, 51, 54, 57, 60, 63, 66, 69, 72, 75, 78, 81, 84, 87, 90, 93, 96, 99]\n"
     ]
    }
   ],
   "source": [
    "list1 = list(range(3,101,3))\n",
    "print(list1)"
   ]
  },
  {
   "cell_type": "markdown",
   "id": "33cc8ad9",
   "metadata": {},
   "source": [
    "### 2. "
   ]
  },
  {
   "cell_type": "code",
   "execution_count": 23,
   "id": "a095ecce",
   "metadata": {},
   "outputs": [
    {
     "name": "stdout",
     "output_type": "stream",
     "text": [
      "[3, 6, 9, 12, 15, 18, 21, 24, 27, 30, 33, 36, 39, 42, 45, 48, 51, 54, 57, 60, 63, 66, 69, 72, 75, 78, 81, 84, 87, 90, 93, 96, 99]\n"
     ]
    }
   ],
   "source": [
    "list2 = list(range(3,101,3))\n",
    "pint(list2)"
   ]
  },
  {
   "cell_type": "markdown",
   "id": "662b8689",
   "metadata": {},
   "source": [
    "### 3. "
   ]
  },
  {
   "cell_type": "code",
   "execution_count": 11,
   "id": "87120d79",
   "metadata": {},
   "outputs": [
    {
     "name": "stdout",
     "output_type": "stream",
     "text": [
      "369121518212427303336394245485154576063666972757881848790939699\n"
     ]
    }
   ],
   "source": [
    "result = \"\"\n",
    "for i in range(3,101,3):\n",
    "    result = result+str(i)\n",
    "print(result)"
   ]
  },
  {
   "cell_type": "markdown",
   "id": "3f958efd",
   "metadata": {},
   "source": [
    "### 4. "
   ]
  },
  {
   "cell_type": "code",
   "execution_count": 15,
   "id": "0ed172b6",
   "metadata": {},
   "outputs": [
    {
     "name": "stdout",
     "output_type": "stream",
     "text": [
      "[99, 96, 93, 90, 87, 84, 81, 78, 75, 72, 69, 66, 63, 60, 57, 54, 51, 48, 45, 42, 39, 36, 33, 30, 27, 24, 21, 18, 15, 12, 9, 6, 3]\n"
     ]
    }
   ],
   "source": [
    "list1 = list(range(3,101,3))\n",
    "\n",
    "list3 = []\n",
    "for i in range(3,101,3):\n",
    "    list3.append(list1.pop())\n",
    "    \n",
    "print(list3)\n"
   ]
  },
  {
   "cell_type": "markdown",
   "id": "0c080239",
   "metadata": {},
   "source": [
    "### 5."
   ]
  },
  {
   "cell_type": "code",
   "execution_count": 97,
   "id": "b742fdc6",
   "metadata": {},
   "outputs": [
    {
     "name": "stdout",
     "output_type": "stream",
     "text": [
      "[3, 6, 9, 12, 15, 18, 21, 24, 27, 30, 33, 36, 39, 42, 45, 48, 51, 54, 57, 60, 63, 66, 69, 72, 75, 78, 81, 84, 87, 90, 93, 96, 99]\n",
      "\n",
      "\n",
      "51\n",
      "54\n",
      "57\n",
      "60\n",
      "63\n",
      "66\n",
      "69\n",
      "72\n",
      "75\n",
      "78\n",
      "81\n",
      "84\n",
      "87\n",
      "90\n",
      "93\n",
      "96\n",
      "99\n"
     ]
    }
   ],
   "source": [
    "print(list1)\n",
    "print('\\n')\n",
    "midpoint = int(len(list1)/2)\n",
    "end = len(list1)\n",
    "for i in range(midpoint, end):\n",
    "    print(list1[i])"
   ]
  },
  {
   "cell_type": "markdown",
   "id": "c92663ce",
   "metadata": {},
   "source": [
    "### 6."
   ]
  },
  {
   "cell_type": "code",
   "execution_count": 90,
   "id": "59d82707",
   "metadata": {},
   "outputs": [
    {
     "name": "stdout",
     "output_type": "stream",
     "text": [
      "39152127333945515763697581879399\n"
     ]
    }
   ],
   "source": [
    "result = \"\"\n",
    "for i in range(3,101,6):\n",
    "    result = result+str(i)\n",
    "print(result)"
   ]
  },
  {
   "cell_type": "markdown",
   "id": "bba54fbc",
   "metadata": {},
   "source": [
    "### 7."
   ]
  },
  {
   "cell_type": "code",
   "execution_count": 71,
   "id": "1e48f102",
   "metadata": {},
   "outputs": [
    {
     "name": "stdout",
     "output_type": "stream",
     "text": [
      "[0, 1, 2, 3, 4]\n",
      "[0, 1, 2, 3, 4]\n"
     ]
    }
   ],
   "source": [
    "list = [0,1,2,3,4]\n",
    "tuple = [0,1,2,3,4]\n",
    "print(list, tuple, sep = \"\\n\")"
   ]
  },
  {
   "cell_type": "markdown",
   "id": "482ee4f3",
   "metadata": {},
   "source": [
    "Although a list and typle appear to be similar, the list - as we have seen in this chapter - can have many operations performed on it to adjust it. Whereas, the elements in the tuble are cannot be changed as they are \"static\". Thus, although there are benefits to a tuple such as a smaller size and makes elements easily accessible, you can't manipulate the elements as you would with a list."
   ]
  },
  {
   "cell_type": "markdown",
   "id": "f8ab6a03",
   "metadata": {},
   "source": [
    "## EXPLORATION"
   ]
  },
  {
   "cell_type": "markdown",
   "id": "87f72b65",
   "metadata": {},
   "source": [
    "###### Because I was at a conference last week, it took me more time that I had realized to complete the exercises. Thus, I chose to neglect completing the exploration in order to be able to turn my assignment in on time. I will complete the exploration on my own."
   ]
  }
 ],
 "metadata": {
  "kernelspec": {
   "display_name": "Python 3",
   "language": "python",
   "name": "python3"
  },
  "language_info": {
   "codemirror_mode": {
    "name": "ipython",
    "version": 3
   },
   "file_extension": ".py",
   "mimetype": "text/x-python",
   "name": "python",
   "nbconvert_exporter": "python",
   "pygments_lexer": "ipython3",
   "version": "3.8.8"
  }
 },
 "nbformat": 4,
 "nbformat_minor": 5
}
